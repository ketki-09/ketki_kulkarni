{
 "cells": [
  {
   "cell_type": "code",
   "execution_count": 144,
   "id": "8506fdd7",
   "metadata": {},
   "outputs": [],
   "source": [
    "import numpy as np\n",
    "import pandas as pd\n",
    "import matplotlib.pyplot as plt\n",
    "import seaborn as sns\n",
    "%matplotlib inline\n",
    "import matplotlib \n",
    "matplotlib.rcParams[\"figure.figsize\"] = (20,10)\n",
    "from IPython.display import Image\n",
    "from sklearn.model_selection import GridSearchCV\n",
    "from sklearn.linear_model import Lasso\n",
    "from sklearn.tree import DecisionTreeRegressor\n",
    "from sklearn.model_selection import train_test_split\n",
    "from sklearn.linear_model import LinearRegression\n",
    "from sklearn.model_selection import ShuffleSplit\n",
    "from sklearn.model_selection import cross_val_score"
   ]
  },
  {
   "cell_type": "code",
   "execution_count": 145,
   "id": "6cdc7c43",
   "metadata": {},
   "outputs": [
    {
     "data": {
      "text/html": [
       "<div>\n",
       "<style scoped>\n",
       "    .dataframe tbody tr th:only-of-type {\n",
       "        vertical-align: middle;\n",
       "    }\n",
       "\n",
       "    .dataframe tbody tr th {\n",
       "        vertical-align: top;\n",
       "    }\n",
       "\n",
       "    .dataframe thead th {\n",
       "        text-align: right;\n",
       "    }\n",
       "</style>\n",
       "<table border=\"1\" class=\"dataframe\">\n",
       "  <thead>\n",
       "    <tr style=\"text-align: right;\">\n",
       "      <th></th>\n",
       "      <th>area_type</th>\n",
       "      <th>location</th>\n",
       "      <th>society</th>\n",
       "      <th>size</th>\n",
       "      <th>total_sqft</th>\n",
       "      <th>sqft</th>\n",
       "      <th>bath</th>\n",
       "      <th>balcony</th>\n",
       "      <th>possession date</th>\n",
       "      <th>price</th>\n",
       "    </tr>\n",
       "  </thead>\n",
       "  <tbody>\n",
       "    <tr>\n",
       "      <th>0</th>\n",
       "      <td>Super built-up  Area</td>\n",
       "      <td>Electronic City Phase II</td>\n",
       "      <td>Coomee</td>\n",
       "      <td>2 BHK</td>\n",
       "      <td>1056</td>\n",
       "      <td>1056.0</td>\n",
       "      <td>2.0</td>\n",
       "      <td>1.0</td>\n",
       "      <td>44192</td>\n",
       "      <td>39.07</td>\n",
       "    </tr>\n",
       "    <tr>\n",
       "      <th>1</th>\n",
       "      <td>Plot  Area</td>\n",
       "      <td>Chikka Tirupathi</td>\n",
       "      <td>Theanmp</td>\n",
       "      <td>4 Bedroom</td>\n",
       "      <td>2600</td>\n",
       "      <td>2600.0</td>\n",
       "      <td>5.0</td>\n",
       "      <td>3.0</td>\n",
       "      <td>Ready to move</td>\n",
       "      <td>120.00</td>\n",
       "    </tr>\n",
       "    <tr>\n",
       "      <th>2</th>\n",
       "      <td>Built-up  Area</td>\n",
       "      <td>Uttarahalli</td>\n",
       "      <td>NaN</td>\n",
       "      <td>3 BHK</td>\n",
       "      <td>1440</td>\n",
       "      <td>1440.0</td>\n",
       "      <td>2.0</td>\n",
       "      <td>3.0</td>\n",
       "      <td>Ready to move</td>\n",
       "      <td>62.00</td>\n",
       "    </tr>\n",
       "    <tr>\n",
       "      <th>3</th>\n",
       "      <td>Super built-up  Area</td>\n",
       "      <td>Lingadheeranahalli</td>\n",
       "      <td>Soiewre</td>\n",
       "      <td>3 BHK</td>\n",
       "      <td>1521</td>\n",
       "      <td>1521.0</td>\n",
       "      <td>3.0</td>\n",
       "      <td>1.0</td>\n",
       "      <td>Ready to move</td>\n",
       "      <td>95.00</td>\n",
       "    </tr>\n",
       "    <tr>\n",
       "      <th>4</th>\n",
       "      <td>Super built-up  Area</td>\n",
       "      <td>Kothanur</td>\n",
       "      <td>NaN</td>\n",
       "      <td>2 BHK</td>\n",
       "      <td>1200</td>\n",
       "      <td>1200.0</td>\n",
       "      <td>2.0</td>\n",
       "      <td>1.0</td>\n",
       "      <td>Ready to move</td>\n",
       "      <td>51.00</td>\n",
       "    </tr>\n",
       "    <tr>\n",
       "      <th>5</th>\n",
       "      <td>Super built-up  Area</td>\n",
       "      <td>Whitefield</td>\n",
       "      <td>DuenaTa</td>\n",
       "      <td>2 BHK</td>\n",
       "      <td>1170</td>\n",
       "      <td>1170.0</td>\n",
       "      <td>2.0</td>\n",
       "      <td>1.0</td>\n",
       "      <td>Ready to move</td>\n",
       "      <td>38.00</td>\n",
       "    </tr>\n",
       "  </tbody>\n",
       "</table>\n",
       "</div>"
      ],
      "text/plain": [
       "              area_type                  location  society       size  \\\n",
       "0  Super built-up  Area  Electronic City Phase II  Coomee       2 BHK   \n",
       "1            Plot  Area          Chikka Tirupathi  Theanmp  4 Bedroom   \n",
       "2        Built-up  Area               Uttarahalli      NaN      3 BHK   \n",
       "3  Super built-up  Area        Lingadheeranahalli  Soiewre      3 BHK   \n",
       "4  Super built-up  Area                  Kothanur      NaN      2 BHK   \n",
       "5  Super built-up  Area                Whitefield  DuenaTa      2 BHK   \n",
       "\n",
       "  total_sqft    sqft  bath  balcony possession date   price  \n",
       "0       1056  1056.0   2.0      1.0           44192   39.07  \n",
       "1       2600  2600.0   5.0      3.0   Ready to move  120.00  \n",
       "2       1440  1440.0   2.0      3.0   Ready to move   62.00  \n",
       "3       1521  1521.0   3.0      1.0   Ready to move   95.00  \n",
       "4       1200  1200.0   2.0      1.0   Ready to move   51.00  \n",
       "5       1170  1170.0   2.0      1.0   Ready to move   38.00  "
      ]
     },
     "execution_count": 145,
     "metadata": {},
     "output_type": "execute_result"
    }
   ],
   "source": [
    "## Loading the dataset\n",
    "\n",
    "data = pd.read_csv(\"house_price.csv\")\n",
    "\n",
    "data.head(6)"
   ]
  },
  {
   "cell_type": "markdown",
   "id": "36dd5aec",
   "metadata": {},
   "source": [
    "Information about variable type:"
   ]
  },
  {
   "cell_type": "code",
   "execution_count": 146,
   "id": "533e5d17",
   "metadata": {},
   "outputs": [
    {
     "data": {
      "text/plain": [
       "Index(['area_type', 'location', 'society', 'size', 'total_sqft', 'sqft',\n",
       "       'bath', 'balcony', 'possession date', 'price'],\n",
       "      dtype='object')"
      ]
     },
     "execution_count": 146,
     "metadata": {},
     "output_type": "execute_result"
    }
   ],
   "source": [
    "## number of columns in dataset:\n",
    "data.columns"
   ]
  },
  {
   "cell_type": "code",
   "execution_count": 147,
   "id": "b966cad5",
   "metadata": {},
   "outputs": [
    {
     "name": "stdout",
     "output_type": "stream",
     "text": [
      "<class 'pandas.core.frame.DataFrame'>\n",
      "RangeIndex: 13314 entries, 0 to 13313\n",
      "Data columns (total 10 columns):\n",
      " #   Column           Non-Null Count  Dtype  \n",
      "---  ------           --------------  -----  \n",
      " 0   area_type        13314 non-null  object \n",
      " 1   location         13314 non-null  object \n",
      " 2   society          7817 non-null   object \n",
      " 3   size             13298 non-null  object \n",
      " 4   total_sqft       13314 non-null  object \n",
      " 5   sqft             13314 non-null  float64\n",
      " 6   bath             13241 non-null  float64\n",
      " 7   balcony          12706 non-null  float64\n",
      " 8   possession date  13314 non-null  object \n",
      " 9   price            13314 non-null  float64\n",
      "dtypes: float64(4), object(6)\n",
      "memory usage: 1.0+ MB\n"
     ]
    }
   ],
   "source": [
    "data.info()"
   ]
  },
  {
   "cell_type": "markdown",
   "id": "d4577d09",
   "metadata": {},
   "source": [
    "# Description about the dataset"
   ]
  },
  {
   "cell_type": "code",
   "execution_count": 148,
   "id": "06a25b5f",
   "metadata": {},
   "outputs": [
    {
     "data": {
      "text/html": [
       "<div>\n",
       "<style scoped>\n",
       "    .dataframe tbody tr th:only-of-type {\n",
       "        vertical-align: middle;\n",
       "    }\n",
       "\n",
       "    .dataframe tbody tr th {\n",
       "        vertical-align: top;\n",
       "    }\n",
       "\n",
       "    .dataframe thead th {\n",
       "        text-align: right;\n",
       "    }\n",
       "</style>\n",
       "<table border=\"1\" class=\"dataframe\">\n",
       "  <thead>\n",
       "    <tr style=\"text-align: right;\">\n",
       "      <th></th>\n",
       "      <th>count</th>\n",
       "      <th>mean</th>\n",
       "      <th>std</th>\n",
       "      <th>min</th>\n",
       "      <th>25%</th>\n",
       "      <th>50%</th>\n",
       "      <th>75%</th>\n",
       "      <th>max</th>\n",
       "    </tr>\n",
       "  </thead>\n",
       "  <tbody>\n",
       "    <tr>\n",
       "      <th>sqft</th>\n",
       "      <td>13314.0</td>\n",
       "      <td>1817.240548</td>\n",
       "      <td>14278.686970</td>\n",
       "      <td>45.0</td>\n",
       "      <td>1100.0</td>\n",
       "      <td>1277.0</td>\n",
       "      <td>1680.0</td>\n",
       "      <td>1306800.0</td>\n",
       "    </tr>\n",
       "    <tr>\n",
       "      <th>bath</th>\n",
       "      <td>13241.0</td>\n",
       "      <td>2.691564</td>\n",
       "      <td>1.339904</td>\n",
       "      <td>1.0</td>\n",
       "      <td>2.0</td>\n",
       "      <td>2.0</td>\n",
       "      <td>3.0</td>\n",
       "      <td>40.0</td>\n",
       "    </tr>\n",
       "    <tr>\n",
       "      <th>balcony</th>\n",
       "      <td>12706.0</td>\n",
       "      <td>1.584133</td>\n",
       "      <td>0.817198</td>\n",
       "      <td>0.0</td>\n",
       "      <td>1.0</td>\n",
       "      <td>2.0</td>\n",
       "      <td>2.0</td>\n",
       "      <td>3.0</td>\n",
       "    </tr>\n",
       "    <tr>\n",
       "      <th>price</th>\n",
       "      <td>13314.0</td>\n",
       "      <td>112.545076</td>\n",
       "      <td>148.998426</td>\n",
       "      <td>8.0</td>\n",
       "      <td>50.0</td>\n",
       "      <td>72.0</td>\n",
       "      <td>120.0</td>\n",
       "      <td>3600.0</td>\n",
       "    </tr>\n",
       "  </tbody>\n",
       "</table>\n",
       "</div>"
      ],
      "text/plain": [
       "           count         mean           std   min     25%     50%     75%  \\\n",
       "sqft     13314.0  1817.240548  14278.686970  45.0  1100.0  1277.0  1680.0   \n",
       "bath     13241.0     2.691564      1.339904   1.0     2.0     2.0     3.0   \n",
       "balcony  12706.0     1.584133      0.817198   0.0     1.0     2.0     2.0   \n",
       "price    13314.0   112.545076    148.998426   8.0    50.0    72.0   120.0   \n",
       "\n",
       "               max  \n",
       "sqft     1306800.0  \n",
       "bath          40.0  \n",
       "balcony        3.0  \n",
       "price       3600.0  "
      ]
     },
     "execution_count": 148,
     "metadata": {},
     "output_type": "execute_result"
    }
   ],
   "source": [
    "data.describe().T"
   ]
  },
  {
   "cell_type": "markdown",
   "id": "e6dcfab4",
   "metadata": {},
   "source": [
    "# Checking if there is some null values or not"
   ]
  },
  {
   "cell_type": "code",
   "execution_count": 149,
   "id": "01a2203a",
   "metadata": {},
   "outputs": [
    {
     "data": {
      "text/html": [
       "<div>\n",
       "<style scoped>\n",
       "    .dataframe tbody tr th:only-of-type {\n",
       "        vertical-align: middle;\n",
       "    }\n",
       "\n",
       "    .dataframe tbody tr th {\n",
       "        vertical-align: top;\n",
       "    }\n",
       "\n",
       "    .dataframe thead th {\n",
       "        text-align: right;\n",
       "    }\n",
       "</style>\n",
       "<table border=\"1\" class=\"dataframe\">\n",
       "  <thead>\n",
       "    <tr style=\"text-align: right;\">\n",
       "      <th></th>\n",
       "      <th>area_type</th>\n",
       "      <th>location</th>\n",
       "      <th>society</th>\n",
       "      <th>size</th>\n",
       "      <th>total_sqft</th>\n",
       "      <th>sqft</th>\n",
       "      <th>bath</th>\n",
       "      <th>balcony</th>\n",
       "      <th>possession date</th>\n",
       "      <th>price</th>\n",
       "    </tr>\n",
       "  </thead>\n",
       "  <tbody>\n",
       "    <tr>\n",
       "      <th>0</th>\n",
       "      <td>False</td>\n",
       "      <td>False</td>\n",
       "      <td>False</td>\n",
       "      <td>False</td>\n",
       "      <td>False</td>\n",
       "      <td>False</td>\n",
       "      <td>False</td>\n",
       "      <td>False</td>\n",
       "      <td>False</td>\n",
       "      <td>False</td>\n",
       "    </tr>\n",
       "    <tr>\n",
       "      <th>1</th>\n",
       "      <td>False</td>\n",
       "      <td>False</td>\n",
       "      <td>False</td>\n",
       "      <td>False</td>\n",
       "      <td>False</td>\n",
       "      <td>False</td>\n",
       "      <td>False</td>\n",
       "      <td>False</td>\n",
       "      <td>False</td>\n",
       "      <td>False</td>\n",
       "    </tr>\n",
       "    <tr>\n",
       "      <th>2</th>\n",
       "      <td>False</td>\n",
       "      <td>False</td>\n",
       "      <td>True</td>\n",
       "      <td>False</td>\n",
       "      <td>False</td>\n",
       "      <td>False</td>\n",
       "      <td>False</td>\n",
       "      <td>False</td>\n",
       "      <td>False</td>\n",
       "      <td>False</td>\n",
       "    </tr>\n",
       "    <tr>\n",
       "      <th>3</th>\n",
       "      <td>False</td>\n",
       "      <td>False</td>\n",
       "      <td>False</td>\n",
       "      <td>False</td>\n",
       "      <td>False</td>\n",
       "      <td>False</td>\n",
       "      <td>False</td>\n",
       "      <td>False</td>\n",
       "      <td>False</td>\n",
       "      <td>False</td>\n",
       "    </tr>\n",
       "    <tr>\n",
       "      <th>4</th>\n",
       "      <td>False</td>\n",
       "      <td>False</td>\n",
       "      <td>True</td>\n",
       "      <td>False</td>\n",
       "      <td>False</td>\n",
       "      <td>False</td>\n",
       "      <td>False</td>\n",
       "      <td>False</td>\n",
       "      <td>False</td>\n",
       "      <td>False</td>\n",
       "    </tr>\n",
       "    <tr>\n",
       "      <th>...</th>\n",
       "      <td>...</td>\n",
       "      <td>...</td>\n",
       "      <td>...</td>\n",
       "      <td>...</td>\n",
       "      <td>...</td>\n",
       "      <td>...</td>\n",
       "      <td>...</td>\n",
       "      <td>...</td>\n",
       "      <td>...</td>\n",
       "      <td>...</td>\n",
       "    </tr>\n",
       "    <tr>\n",
       "      <th>13309</th>\n",
       "      <td>False</td>\n",
       "      <td>False</td>\n",
       "      <td>False</td>\n",
       "      <td>False</td>\n",
       "      <td>False</td>\n",
       "      <td>False</td>\n",
       "      <td>False</td>\n",
       "      <td>False</td>\n",
       "      <td>False</td>\n",
       "      <td>False</td>\n",
       "    </tr>\n",
       "    <tr>\n",
       "      <th>13310</th>\n",
       "      <td>False</td>\n",
       "      <td>False</td>\n",
       "      <td>True</td>\n",
       "      <td>False</td>\n",
       "      <td>False</td>\n",
       "      <td>False</td>\n",
       "      <td>False</td>\n",
       "      <td>True</td>\n",
       "      <td>False</td>\n",
       "      <td>False</td>\n",
       "    </tr>\n",
       "    <tr>\n",
       "      <th>13311</th>\n",
       "      <td>False</td>\n",
       "      <td>False</td>\n",
       "      <td>False</td>\n",
       "      <td>False</td>\n",
       "      <td>False</td>\n",
       "      <td>False</td>\n",
       "      <td>False</td>\n",
       "      <td>False</td>\n",
       "      <td>False</td>\n",
       "      <td>False</td>\n",
       "    </tr>\n",
       "    <tr>\n",
       "      <th>13312</th>\n",
       "      <td>False</td>\n",
       "      <td>False</td>\n",
       "      <td>False</td>\n",
       "      <td>False</td>\n",
       "      <td>False</td>\n",
       "      <td>False</td>\n",
       "      <td>False</td>\n",
       "      <td>False</td>\n",
       "      <td>False</td>\n",
       "      <td>False</td>\n",
       "    </tr>\n",
       "    <tr>\n",
       "      <th>13313</th>\n",
       "      <td>False</td>\n",
       "      <td>False</td>\n",
       "      <td>True</td>\n",
       "      <td>False</td>\n",
       "      <td>False</td>\n",
       "      <td>False</td>\n",
       "      <td>False</td>\n",
       "      <td>False</td>\n",
       "      <td>False</td>\n",
       "      <td>False</td>\n",
       "    </tr>\n",
       "  </tbody>\n",
       "</table>\n",
       "<p>13314 rows × 10 columns</p>\n",
       "</div>"
      ],
      "text/plain": [
       "       area_type  location  society   size  total_sqft   sqft   bath  balcony  \\\n",
       "0          False     False    False  False       False  False  False    False   \n",
       "1          False     False    False  False       False  False  False    False   \n",
       "2          False     False     True  False       False  False  False    False   \n",
       "3          False     False    False  False       False  False  False    False   \n",
       "4          False     False     True  False       False  False  False    False   \n",
       "...          ...       ...      ...    ...         ...    ...    ...      ...   \n",
       "13309      False     False    False  False       False  False  False    False   \n",
       "13310      False     False     True  False       False  False  False     True   \n",
       "13311      False     False    False  False       False  False  False    False   \n",
       "13312      False     False    False  False       False  False  False    False   \n",
       "13313      False     False     True  False       False  False  False    False   \n",
       "\n",
       "       possession date  price  \n",
       "0                False  False  \n",
       "1                False  False  \n",
       "2                False  False  \n",
       "3                False  False  \n",
       "4                False  False  \n",
       "...                ...    ...  \n",
       "13309            False  False  \n",
       "13310            False  False  \n",
       "13311            False  False  \n",
       "13312            False  False  \n",
       "13313            False  False  \n",
       "\n",
       "[13314 rows x 10 columns]"
      ]
     },
     "execution_count": 149,
     "metadata": {},
     "output_type": "execute_result"
    }
   ],
   "source": [
    "data.isnull()"
   ]
  },
  {
   "cell_type": "code",
   "execution_count": 150,
   "id": "fee055c9",
   "metadata": {},
   "outputs": [
    {
     "data": {
      "text/plain": [
       "area_type             0\n",
       "location              0\n",
       "society            5497\n",
       "size                 16\n",
       "total_sqft            0\n",
       "sqft                  0\n",
       "bath                 73\n",
       "balcony             608\n",
       "possession date       0\n",
       "price                 0\n",
       "dtype: int64"
      ]
     },
     "execution_count": 150,
     "metadata": {},
     "output_type": "execute_result"
    }
   ],
   "source": [
    "data.isnull().sum()"
   ]
  },
  {
   "cell_type": "code",
   "execution_count": 151,
   "id": "def75572",
   "metadata": {},
   "outputs": [
    {
     "data": {
      "text/html": [
       "<div>\n",
       "<style scoped>\n",
       "    .dataframe tbody tr th:only-of-type {\n",
       "        vertical-align: middle;\n",
       "    }\n",
       "\n",
       "    .dataframe tbody tr th {\n",
       "        vertical-align: top;\n",
       "    }\n",
       "\n",
       "    .dataframe thead th {\n",
       "        text-align: right;\n",
       "    }\n",
       "</style>\n",
       "<table border=\"1\" class=\"dataframe\">\n",
       "  <thead>\n",
       "    <tr style=\"text-align: right;\">\n",
       "      <th></th>\n",
       "      <th>area_type</th>\n",
       "      <th>location</th>\n",
       "      <th>society</th>\n",
       "      <th>size</th>\n",
       "      <th>total_sqft</th>\n",
       "      <th>sqft</th>\n",
       "      <th>bath</th>\n",
       "      <th>balcony</th>\n",
       "      <th>possession date</th>\n",
       "      <th>price</th>\n",
       "    </tr>\n",
       "  </thead>\n",
       "  <tbody>\n",
       "    <tr>\n",
       "      <th>409</th>\n",
       "      <td>Plot  Area</td>\n",
       "      <td>Sultan Palaya</td>\n",
       "      <td>NaN</td>\n",
       "      <td>2 Bedroom</td>\n",
       "      <td>550</td>\n",
       "      <td>550.0</td>\n",
       "      <td>1.0</td>\n",
       "      <td>1.0</td>\n",
       "      <td>Ready to move</td>\n",
       "      <td>62.0</td>\n",
       "    </tr>\n",
       "    <tr>\n",
       "      <th>410</th>\n",
       "      <td>Super built-up  Area</td>\n",
       "      <td>Kengeri</td>\n",
       "      <td>NaN</td>\n",
       "      <td>1 BHK</td>\n",
       "      <td>34.46Sq. Meter</td>\n",
       "      <td>371.0</td>\n",
       "      <td>1.0</td>\n",
       "      <td>0.0</td>\n",
       "      <td>Ready to move</td>\n",
       "      <td>18.5</td>\n",
       "    </tr>\n",
       "  </tbody>\n",
       "</table>\n",
       "</div>"
      ],
      "text/plain": [
       "                area_type       location society       size      total_sqft  \\\n",
       "409            Plot  Area  Sultan Palaya     NaN  2 Bedroom             550   \n",
       "410  Super built-up  Area        Kengeri     NaN      1 BHK  34.46Sq. Meter   \n",
       "\n",
       "      sqft  bath  balcony possession date  price  \n",
       "409  550.0   1.0      1.0   Ready to move   62.0  \n",
       "410  371.0   1.0      0.0   Ready to move   18.5  "
      ]
     },
     "execution_count": 151,
     "metadata": {},
     "output_type": "execute_result"
    }
   ],
   "source": [
    "data.iloc[409:411]"
   ]
  },
  {
   "cell_type": "markdown",
   "id": "98e04129",
   "metadata": {},
   "source": [
    "# Performing Group by operations on Area Type"
   ]
  },
  {
   "cell_type": "code",
   "execution_count": 152,
   "id": "d766b39f",
   "metadata": {},
   "outputs": [
    {
     "data": {
      "text/plain": [
       "area_type\n",
       "Built-up  Area          2414\n",
       "Carpet  Area              87\n",
       "Plot  Area              2024\n",
       "Super built-up  Area    8789\n",
       "Name: area_type, dtype: int64"
      ]
     },
     "execution_count": 152,
     "metadata": {},
     "output_type": "execute_result"
    }
   ],
   "source": [
    "data.groupby(\"area_type\")[\"area_type\"].agg(\"count\")"
   ]
  },
  {
   "cell_type": "markdown",
   "id": "102bdd00",
   "metadata": {},
   "source": [
    "# Checking how many different types of \"Area Types\" are present in the dataset"
   ]
  },
  {
   "cell_type": "code",
   "execution_count": 153,
   "id": "0c9efce7",
   "metadata": {},
   "outputs": [
    {
     "data": {
      "text/plain": [
       "array(['Super built-up  Area', 'Plot  Area', 'Built-up  Area',\n",
       "       'Carpet  Area'], dtype=object)"
      ]
     },
     "execution_count": 153,
     "metadata": {},
     "output_type": "execute_result"
    }
   ],
   "source": [
    "data['area_type'].unique()"
   ]
  },
  {
   "cell_type": "markdown",
   "id": "d6b29ddf",
   "metadata": {},
   "source": [
    "# Data Visualization"
   ]
  },
  {
   "cell_type": "code",
   "execution_count": 154,
   "id": "0ada509d",
   "metadata": {},
   "outputs": [
    {
     "data": {
      "text/plain": [
       "<Axes: xlabel='area_type'>"
      ]
     },
     "execution_count": 154,
     "metadata": {},
     "output_type": "execute_result"
    },
    {
     "data": {
      "image/png": "[encoded data removed]",
      "text/plain": [
       "<Figure size 2000x1000 with 1 Axes>"
      ]
     },
     "metadata": {},
     "output_type": "display_data"
    }
   ],
   "source": [
    "## Count of each area type:\n",
    "data.area_type.value_counts().plot(kind='bar')"
   ]
  },
  {
   "cell_type": "code",
   "execution_count": 155,
   "id": "c0d65712",
   "metadata": {},
   "outputs": [
    {
     "data": {
      "text/plain": [
       "<Axes: xlabel='bath'>"
      ]
     },
     "execution_count": 155,
     "metadata": {},
     "output_type": "execute_result"
    },
    {
     "data": {
      "image/png": "[encoded data removed]",
      "text/plain": [
       "<Figure size 2000x1000 with 1 Axes>"
      ]
     },
     "metadata": {},
     "output_type": "display_data"
    }
   ],
   "source": [
    "# count of bathroom:\n",
    "data.bath.value_counts().plot(kind='bar')"
   ]
  },
  {
   "cell_type": "code",
   "execution_count": 156,
   "id": "93e53669",
   "metadata": {},
   "outputs": [
    {
     "data": {
      "image/png": "[encoded data removed]",
      "text/plain": [
       "<Figure size 2000x1000 with 1 Axes>"
      ]
     },
     "metadata": {},
     "output_type": "display_data"
    }
   ],
   "source": [
    "(data[\"area_type\"].value_counts()).plot.pie(autopct=\"%.1f%%\", shadow=True,rotatelabels=True, wedgeprops={'linewidth': 6}, radius=2)\n",
    "plt.show()"
   ]
  },
  {
   "cell_type": "code",
   "execution_count": 157,
   "id": "2681fb27",
   "metadata": {},
   "outputs": [
    {
     "data": {
      "image/png": "[encoded data removed]",
      "text/plain": [
       "<Figure size 2000x800 with 1 Axes>"
      ]
     },
     "metadata": {},
     "output_type": "display_data"
    }
   ],
   "source": [
    "plt.figure(figsize = (20,8))\n",
    "ax=sns.countplot(x = 'balcony', data = data)\n",
    "plt.xticks(rotation = 90)\n",
    "for p in ax.patches:\n",
    "    ax.annotate(int(p.get_height()), (p.get_x()+0.25, p.get_height()+1), va = 'bottom', color = 'black')"
   ]
  },
  {
   "cell_type": "markdown",
   "id": "4055f509",
   "metadata": {},
   "source": [
    "# Dropping those predictors who has too many null values:"
   ]
  },
  {
   "cell_type": "code",
   "execution_count": 158,
   "id": "9c90fbe1",
   "metadata": {},
   "outputs": [
    {
     "name": "stdout",
     "output_type": "stream",
     "text": [
      "area_type             0\n",
      "location              0\n",
      "total_sqft            0\n",
      "sqft                  0\n",
      "possession date       0\n",
      "price                 0\n",
      "size                 16\n",
      "bath                 73\n",
      "balcony             608\n",
      "society            5497\n",
      "dtype: int64\n"
     ]
    }
   ],
   "source": [
    "## count null values for each predictors:\n",
    "counts = data.isna().sum()\n",
    "print(counts.sort_values())"
   ]
  },
  {
   "cell_type": "code",
   "execution_count": 159,
   "id": "c044ce2c",
   "metadata": {},
   "outputs": [
    {
     "data": {
      "text/plain": [
       "(13314, 5)"
      ]
     },
     "execution_count": 159,
     "metadata": {},
     "output_type": "execute_result"
    }
   ],
   "source": [
    "data = data.drop([\"area_type\",\"society\",\"balcony\",\"possession date\",\"total_sqft\"], axis = \"columns\")\n",
    "data.shape"
   ]
  },
  {
   "cell_type": "code",
   "execution_count": 160,
   "id": "e8b4b608",
   "metadata": {},
   "outputs": [
    {
     "data": {
      "text/plain": [
       "(13241, 5)"
      ]
     },
     "execution_count": 160,
     "metadata": {},
     "output_type": "execute_result"
    }
   ],
   "source": [
    "data = data.dropna()  ## drop NA values\n",
    "data.shape"
   ]
  },
  {
   "cell_type": "code",
   "execution_count": 161,
   "id": "be1a63e0",
   "metadata": {},
   "outputs": [
    {
     "data": {
      "text/plain": [
       "location    0\n",
       "size        0\n",
       "sqft        0\n",
       "bath        0\n",
       "price       0\n",
       "dtype: int64"
      ]
     },
     "execution_count": 161,
     "metadata": {},
     "output_type": "execute_result"
    }
   ],
   "source": [
    "data.isnull().sum()"
   ]
  },
  {
   "cell_type": "markdown",
   "id": "9721a9bf",
   "metadata": {},
   "source": [
    "# Data Engineering"
   ]
  },
  {
   "cell_type": "code",
   "execution_count": 162,
   "id": "eef9e9dc",
   "metadata": {},
   "outputs": [
    {
     "data": {
      "text/plain": [
       "array(['2 BHK', '4 Bedroom', '3 BHK', '4 BHK', '6 Bedroom', '3 Bedroom',\n",
       "       '1 BHK', '1 RK', '1 Bedroom', '8 Bedroom', '2 Bedroom',\n",
       "       '7 Bedroom', '5 BHK', '7 BHK', '6 BHK', '5 Bedroom', '11 BHK',\n",
       "       '9 BHK', '9 Bedroom', '27 BHK', '10 Bedroom', '11 Bedroom',\n",
       "       '10 BHK', '19 BHK', '16 BHK', '43 Bedroom', '14 BHK', '8 BHK',\n",
       "       '12 Bedroom', '13 BHK', '18 Bedroom'], dtype=object)"
      ]
     },
     "execution_count": 162,
     "metadata": {},
     "output_type": "execute_result"
    }
   ],
   "source": [
    "data['size'].unique()"
   ]
  },
  {
   "cell_type": "code",
   "execution_count": 163,
   "id": "b43a022c",
   "metadata": {},
   "outputs": [],
   "source": [
    "# 'Bedroom' is represented with 2 different methods , BHK and Bedroom. So we are making a new column called BHK."
   ]
  },
  {
   "cell_type": "code",
   "execution_count": 164,
   "id": "79f5224d",
   "metadata": {},
   "outputs": [],
   "source": [
    "data['BHK'] = data[\"size\"].apply(lambda x: int(x.split(\" \")[0]))"
   ]
  },
  {
   "cell_type": "code",
   "execution_count": 165,
   "id": "a6fcd557",
   "metadata": {},
   "outputs": [
    {
     "data": {
      "text/html": [
       "<div>\n",
       "<style scoped>\n",
       "    .dataframe tbody tr th:only-of-type {\n",
       "        vertical-align: middle;\n",
       "    }\n",
       "\n",
       "    .dataframe tbody tr th {\n",
       "        vertical-align: top;\n",
       "    }\n",
       "\n",
       "    .dataframe thead th {\n",
       "        text-align: right;\n",
       "    }\n",
       "</style>\n",
       "<table border=\"1\" class=\"dataframe\">\n",
       "  <thead>\n",
       "    <tr style=\"text-align: right;\">\n",
       "      <th></th>\n",
       "      <th>location</th>\n",
       "      <th>size</th>\n",
       "      <th>sqft</th>\n",
       "      <th>bath</th>\n",
       "      <th>price</th>\n",
       "      <th>BHK</th>\n",
       "    </tr>\n",
       "  </thead>\n",
       "  <tbody>\n",
       "    <tr>\n",
       "      <th>0</th>\n",
       "      <td>Electronic City Phase II</td>\n",
       "      <td>2 BHK</td>\n",
       "      <td>1056.0</td>\n",
       "      <td>2.0</td>\n",
       "      <td>39.07</td>\n",
       "      <td>2</td>\n",
       "    </tr>\n",
       "    <tr>\n",
       "      <th>1</th>\n",
       "      <td>Chikka Tirupathi</td>\n",
       "      <td>4 Bedroom</td>\n",
       "      <td>2600.0</td>\n",
       "      <td>5.0</td>\n",
       "      <td>120.00</td>\n",
       "      <td>4</td>\n",
       "    </tr>\n",
       "    <tr>\n",
       "      <th>2</th>\n",
       "      <td>Uttarahalli</td>\n",
       "      <td>3 BHK</td>\n",
       "      <td>1440.0</td>\n",
       "      <td>2.0</td>\n",
       "      <td>62.00</td>\n",
       "      <td>3</td>\n",
       "    </tr>\n",
       "    <tr>\n",
       "      <th>3</th>\n",
       "      <td>Lingadheeranahalli</td>\n",
       "      <td>3 BHK</td>\n",
       "      <td>1521.0</td>\n",
       "      <td>3.0</td>\n",
       "      <td>95.00</td>\n",
       "      <td>3</td>\n",
       "    </tr>\n",
       "    <tr>\n",
       "      <th>4</th>\n",
       "      <td>Kothanur</td>\n",
       "      <td>2 BHK</td>\n",
       "      <td>1200.0</td>\n",
       "      <td>2.0</td>\n",
       "      <td>51.00</td>\n",
       "      <td>2</td>\n",
       "    </tr>\n",
       "    <tr>\n",
       "      <th>5</th>\n",
       "      <td>Whitefield</td>\n",
       "      <td>2 BHK</td>\n",
       "      <td>1170.0</td>\n",
       "      <td>2.0</td>\n",
       "      <td>38.00</td>\n",
       "      <td>2</td>\n",
       "    </tr>\n",
       "    <tr>\n",
       "      <th>6</th>\n",
       "      <td>Old Airport Road</td>\n",
       "      <td>4 BHK</td>\n",
       "      <td>2732.0</td>\n",
       "      <td>4.0</td>\n",
       "      <td>204.00</td>\n",
       "      <td>4</td>\n",
       "    </tr>\n",
       "    <tr>\n",
       "      <th>7</th>\n",
       "      <td>Rajaji Nagar</td>\n",
       "      <td>4 BHK</td>\n",
       "      <td>3300.0</td>\n",
       "      <td>4.0</td>\n",
       "      <td>600.00</td>\n",
       "      <td>4</td>\n",
       "    </tr>\n",
       "    <tr>\n",
       "      <th>8</th>\n",
       "      <td>Marathahalli</td>\n",
       "      <td>3 BHK</td>\n",
       "      <td>1310.0</td>\n",
       "      <td>3.0</td>\n",
       "      <td>63.25</td>\n",
       "      <td>3</td>\n",
       "    </tr>\n",
       "    <tr>\n",
       "      <th>9</th>\n",
       "      <td>Gandhi Bazar</td>\n",
       "      <td>6 Bedroom</td>\n",
       "      <td>1020.0</td>\n",
       "      <td>6.0</td>\n",
       "      <td>370.00</td>\n",
       "      <td>6</td>\n",
       "    </tr>\n",
       "    <tr>\n",
       "      <th>10</th>\n",
       "      <td>Whitefield</td>\n",
       "      <td>3 BHK</td>\n",
       "      <td>1800.0</td>\n",
       "      <td>2.0</td>\n",
       "      <td>70.00</td>\n",
       "      <td>3</td>\n",
       "    </tr>\n",
       "    <tr>\n",
       "      <th>11</th>\n",
       "      <td>Whitefield</td>\n",
       "      <td>4 Bedroom</td>\n",
       "      <td>2785.0</td>\n",
       "      <td>5.0</td>\n",
       "      <td>295.00</td>\n",
       "      <td>4</td>\n",
       "    </tr>\n",
       "    <tr>\n",
       "      <th>12</th>\n",
       "      <td>7th Phase JP Nagar</td>\n",
       "      <td>2 BHK</td>\n",
       "      <td>1000.0</td>\n",
       "      <td>2.0</td>\n",
       "      <td>38.00</td>\n",
       "      <td>2</td>\n",
       "    </tr>\n",
       "    <tr>\n",
       "      <th>13</th>\n",
       "      <td>Gottigere</td>\n",
       "      <td>2 BHK</td>\n",
       "      <td>1100.0</td>\n",
       "      <td>2.0</td>\n",
       "      <td>40.00</td>\n",
       "      <td>2</td>\n",
       "    </tr>\n",
       "    <tr>\n",
       "      <th>14</th>\n",
       "      <td>Sarjapur</td>\n",
       "      <td>3 Bedroom</td>\n",
       "      <td>2250.0</td>\n",
       "      <td>3.0</td>\n",
       "      <td>148.00</td>\n",
       "      <td>3</td>\n",
       "    </tr>\n",
       "    <tr>\n",
       "      <th>15</th>\n",
       "      <td>Mysore Road</td>\n",
       "      <td>2 BHK</td>\n",
       "      <td>1175.0</td>\n",
       "      <td>2.0</td>\n",
       "      <td>73.50</td>\n",
       "      <td>2</td>\n",
       "    </tr>\n",
       "    <tr>\n",
       "      <th>16</th>\n",
       "      <td>Bisuvanahalli</td>\n",
       "      <td>3 BHK</td>\n",
       "      <td>1180.0</td>\n",
       "      <td>3.0</td>\n",
       "      <td>48.00</td>\n",
       "      <td>3</td>\n",
       "    </tr>\n",
       "    <tr>\n",
       "      <th>17</th>\n",
       "      <td>Raja Rajeshwari Nagar</td>\n",
       "      <td>3 BHK</td>\n",
       "      <td>1540.0</td>\n",
       "      <td>3.0</td>\n",
       "      <td>60.00</td>\n",
       "      <td>3</td>\n",
       "    </tr>\n",
       "    <tr>\n",
       "      <th>18</th>\n",
       "      <td>Ramakrishnappa Layout</td>\n",
       "      <td>3 BHK</td>\n",
       "      <td>2770.0</td>\n",
       "      <td>4.0</td>\n",
       "      <td>290.00</td>\n",
       "      <td>3</td>\n",
       "    </tr>\n",
       "    <tr>\n",
       "      <th>19</th>\n",
       "      <td>Manayata Tech Park</td>\n",
       "      <td>2 BHK</td>\n",
       "      <td>1100.0</td>\n",
       "      <td>2.0</td>\n",
       "      <td>48.00</td>\n",
       "      <td>2</td>\n",
       "    </tr>\n",
       "    <tr>\n",
       "      <th>20</th>\n",
       "      <td>Kengeri</td>\n",
       "      <td>1 BHK</td>\n",
       "      <td>600.0</td>\n",
       "      <td>1.0</td>\n",
       "      <td>15.00</td>\n",
       "      <td>1</td>\n",
       "    </tr>\n",
       "    <tr>\n",
       "      <th>21</th>\n",
       "      <td>Binny Pete</td>\n",
       "      <td>3 BHK</td>\n",
       "      <td>1755.0</td>\n",
       "      <td>3.0</td>\n",
       "      <td>122.00</td>\n",
       "      <td>3</td>\n",
       "    </tr>\n",
       "    <tr>\n",
       "      <th>22</th>\n",
       "      <td>Thanisandra</td>\n",
       "      <td>4 Bedroom</td>\n",
       "      <td>2800.0</td>\n",
       "      <td>5.0</td>\n",
       "      <td>380.00</td>\n",
       "      <td>4</td>\n",
       "    </tr>\n",
       "    <tr>\n",
       "      <th>23</th>\n",
       "      <td>Bellandur</td>\n",
       "      <td>3 BHK</td>\n",
       "      <td>1767.0</td>\n",
       "      <td>3.0</td>\n",
       "      <td>103.00</td>\n",
       "      <td>3</td>\n",
       "    </tr>\n",
       "    <tr>\n",
       "      <th>24</th>\n",
       "      <td>Thanisandra</td>\n",
       "      <td>1 RK</td>\n",
       "      <td>510.0</td>\n",
       "      <td>1.0</td>\n",
       "      <td>25.25</td>\n",
       "      <td>1</td>\n",
       "    </tr>\n",
       "    <tr>\n",
       "      <th>25</th>\n",
       "      <td>Mangammanapalya</td>\n",
       "      <td>3 BHK</td>\n",
       "      <td>1250.0</td>\n",
       "      <td>3.0</td>\n",
       "      <td>56.00</td>\n",
       "      <td>3</td>\n",
       "    </tr>\n",
       "    <tr>\n",
       "      <th>26</th>\n",
       "      <td>Electronic City</td>\n",
       "      <td>2 BHK</td>\n",
       "      <td>660.0</td>\n",
       "      <td>1.0</td>\n",
       "      <td>23.10</td>\n",
       "      <td>2</td>\n",
       "    </tr>\n",
       "    <tr>\n",
       "      <th>27</th>\n",
       "      <td>Whitefield</td>\n",
       "      <td>3 BHK</td>\n",
       "      <td>1610.0</td>\n",
       "      <td>3.0</td>\n",
       "      <td>81.00</td>\n",
       "      <td>3</td>\n",
       "    </tr>\n",
       "    <tr>\n",
       "      <th>28</th>\n",
       "      <td>Ramagondanahalli</td>\n",
       "      <td>2 BHK</td>\n",
       "      <td>1151.0</td>\n",
       "      <td>2.0</td>\n",
       "      <td>48.77</td>\n",
       "      <td>2</td>\n",
       "    </tr>\n",
       "    <tr>\n",
       "      <th>29</th>\n",
       "      <td>Electronic City</td>\n",
       "      <td>3 BHK</td>\n",
       "      <td>1025.0</td>\n",
       "      <td>2.0</td>\n",
       "      <td>47.00</td>\n",
       "      <td>3</td>\n",
       "    </tr>\n",
       "    <tr>\n",
       "      <th>30</th>\n",
       "      <td>Yelahanka</td>\n",
       "      <td>4 BHK</td>\n",
       "      <td>2475.0</td>\n",
       "      <td>4.0</td>\n",
       "      <td>186.00</td>\n",
       "      <td>4</td>\n",
       "    </tr>\n",
       "    <tr>\n",
       "      <th>31</th>\n",
       "      <td>Bisuvanahalli</td>\n",
       "      <td>3 BHK</td>\n",
       "      <td>1075.0</td>\n",
       "      <td>2.0</td>\n",
       "      <td>35.00</td>\n",
       "      <td>3</td>\n",
       "    </tr>\n",
       "    <tr>\n",
       "      <th>32</th>\n",
       "      <td>Hebbal</td>\n",
       "      <td>3 BHK</td>\n",
       "      <td>1760.0</td>\n",
       "      <td>2.0</td>\n",
       "      <td>123.00</td>\n",
       "      <td>3</td>\n",
       "    </tr>\n",
       "    <tr>\n",
       "      <th>33</th>\n",
       "      <td>Raja Rajeshwari Nagar</td>\n",
       "      <td>3 BHK</td>\n",
       "      <td>1693.0</td>\n",
       "      <td>3.0</td>\n",
       "      <td>57.39</td>\n",
       "      <td>3</td>\n",
       "    </tr>\n",
       "    <tr>\n",
       "      <th>34</th>\n",
       "      <td>Kasturi Nagar</td>\n",
       "      <td>3 BHK</td>\n",
       "      <td>1925.0</td>\n",
       "      <td>3.0</td>\n",
       "      <td>125.00</td>\n",
       "      <td>3</td>\n",
       "    </tr>\n",
       "    <tr>\n",
       "      <th>35</th>\n",
       "      <td>Kanakpura Road</td>\n",
       "      <td>2 BHK</td>\n",
       "      <td>700.0</td>\n",
       "      <td>2.0</td>\n",
       "      <td>36.00</td>\n",
       "      <td>2</td>\n",
       "    </tr>\n",
       "    <tr>\n",
       "      <th>36</th>\n",
       "      <td>Electronics City Phase 1</td>\n",
       "      <td>2 BHK</td>\n",
       "      <td>1070.0</td>\n",
       "      <td>2.0</td>\n",
       "      <td>45.50</td>\n",
       "      <td>2</td>\n",
       "    </tr>\n",
       "    <tr>\n",
       "      <th>37</th>\n",
       "      <td>Kundalahalli</td>\n",
       "      <td>3 BHK</td>\n",
       "      <td>1724.0</td>\n",
       "      <td>3.0</td>\n",
       "      <td>125.00</td>\n",
       "      <td>3</td>\n",
       "    </tr>\n",
       "    <tr>\n",
       "      <th>38</th>\n",
       "      <td>Chikkalasandra</td>\n",
       "      <td>3 BHK</td>\n",
       "      <td>1290.0</td>\n",
       "      <td>2.0</td>\n",
       "      <td>56.12</td>\n",
       "      <td>3</td>\n",
       "    </tr>\n",
       "    <tr>\n",
       "      <th>39</th>\n",
       "      <td>Uttarahalli</td>\n",
       "      <td>2 BHK</td>\n",
       "      <td>1143.0</td>\n",
       "      <td>2.0</td>\n",
       "      <td>45.00</td>\n",
       "      <td>2</td>\n",
       "    </tr>\n",
       "  </tbody>\n",
       "</table>\n",
       "</div>"
      ],
      "text/plain": [
       "                    location       size    sqft  bath   price  BHK\n",
       "0   Electronic City Phase II      2 BHK  1056.0   2.0   39.07    2\n",
       "1           Chikka Tirupathi  4 Bedroom  2600.0   5.0  120.00    4\n",
       "2                Uttarahalli      3 BHK  1440.0   2.0   62.00    3\n",
       "3         Lingadheeranahalli      3 BHK  1521.0   3.0   95.00    3\n",
       "4                   Kothanur      2 BHK  1200.0   2.0   51.00    2\n",
       "5                 Whitefield      2 BHK  1170.0   2.0   38.00    2\n",
       "6           Old Airport Road      4 BHK  2732.0   4.0  204.00    4\n",
       "7               Rajaji Nagar      4 BHK  3300.0   4.0  600.00    4\n",
       "8               Marathahalli      3 BHK  1310.0   3.0   63.25    3\n",
       "9               Gandhi Bazar  6 Bedroom  1020.0   6.0  370.00    6\n",
       "10                Whitefield      3 BHK  1800.0   2.0   70.00    3\n",
       "11                Whitefield  4 Bedroom  2785.0   5.0  295.00    4\n",
       "12        7th Phase JP Nagar      2 BHK  1000.0   2.0   38.00    2\n",
       "13                 Gottigere      2 BHK  1100.0   2.0   40.00    2\n",
       "14                  Sarjapur  3 Bedroom  2250.0   3.0  148.00    3\n",
       "15               Mysore Road      2 BHK  1175.0   2.0   73.50    2\n",
       "16             Bisuvanahalli      3 BHK  1180.0   3.0   48.00    3\n",
       "17     Raja Rajeshwari Nagar      3 BHK  1540.0   3.0   60.00    3\n",
       "18     Ramakrishnappa Layout      3 BHK  2770.0   4.0  290.00    3\n",
       "19        Manayata Tech Park      2 BHK  1100.0   2.0   48.00    2\n",
       "20                   Kengeri      1 BHK   600.0   1.0   15.00    1\n",
       "21                Binny Pete      3 BHK  1755.0   3.0  122.00    3\n",
       "22               Thanisandra  4 Bedroom  2800.0   5.0  380.00    4\n",
       "23                 Bellandur      3 BHK  1767.0   3.0  103.00    3\n",
       "24               Thanisandra       1 RK   510.0   1.0   25.25    1\n",
       "25           Mangammanapalya      3 BHK  1250.0   3.0   56.00    3\n",
       "26           Electronic City      2 BHK   660.0   1.0   23.10    2\n",
       "27                Whitefield      3 BHK  1610.0   3.0   81.00    3\n",
       "28          Ramagondanahalli      2 BHK  1151.0   2.0   48.77    2\n",
       "29           Electronic City      3 BHK  1025.0   2.0   47.00    3\n",
       "30                 Yelahanka      4 BHK  2475.0   4.0  186.00    4\n",
       "31             Bisuvanahalli      3 BHK  1075.0   2.0   35.00    3\n",
       "32                    Hebbal      3 BHK  1760.0   2.0  123.00    3\n",
       "33     Raja Rajeshwari Nagar      3 BHK  1693.0   3.0   57.39    3\n",
       "34             Kasturi Nagar      3 BHK  1925.0   3.0  125.00    3\n",
       "35            Kanakpura Road      2 BHK   700.0   2.0   36.00    2\n",
       "36  Electronics City Phase 1      2 BHK  1070.0   2.0   45.50    2\n",
       "37              Kundalahalli      3 BHK  1724.0   3.0  125.00    3\n",
       "38            Chikkalasandra      3 BHK  1290.0   2.0   56.12    3\n",
       "39               Uttarahalli      2 BHK  1143.0   2.0   45.00    2"
      ]
     },
     "execution_count": 165,
     "metadata": {},
     "output_type": "execute_result"
    }
   ],
   "source": [
    "data.head(40)"
   ]
  },
  {
   "cell_type": "code",
   "execution_count": 166,
   "id": "190726f7",
   "metadata": {},
   "outputs": [
    {
     "data": {
      "image/png": "[encoded data removed]",
      "text/plain": [
       "<Figure size 2000x800 with 1 Axes>"
      ]
     },
     "metadata": {},
     "output_type": "display_data"
    }
   ],
   "source": [
    "plt.figure(figsize = (20,8))\n",
    "ax=sns.countplot(x = 'BHK', data = data)\n",
    "plt.xticks(rotation = 90)\n",
    "for p in ax.patches:\n",
    "    ax.annotate(int(p.get_height()), (p.get_x()+0.25, p.get_height()+1), va = 'bottom', color = 'black')"
   ]
  },
  {
   "cell_type": "code",
   "execution_count": 167,
   "id": "a22cbe68",
   "metadata": {},
   "outputs": [
    {
     "data": {
      "text/plain": [
       "array([ 2,  4,  3,  6,  1,  8,  7,  5, 11,  9, 27, 10, 19, 16, 43, 14, 12,\n",
       "       13, 18], dtype=int64)"
      ]
     },
     "execution_count": 167,
     "metadata": {},
     "output_type": "execute_result"
    }
   ],
   "source": [
    "data.BHK.unique() # no. of unique BHK in data"
   ]
  },
  {
   "cell_type": "code",
   "execution_count": 168,
   "id": "3f94cee4",
   "metadata": {},
   "outputs": [
    {
     "data": {
      "image/png": "[encoded data removed]",
      "text/plain": [
       "<Figure size 2000x1000 with 1 Axes>"
      ]
     },
     "metadata": {},
     "output_type": "display_data"
    }
   ],
   "source": [
    "## Boxplot 'BHK' vs 'price'\n",
    "sns.boxplot(x = 'BHK', y = 'price', data = data)\n",
    "plt.show()"
   ]
  },
  {
   "cell_type": "code",
   "execution_count": 169,
   "id": "71530959",
   "metadata": {},
   "outputs": [
    {
     "data": {
      "text/plain": [
       "1944"
      ]
     },
     "execution_count": 169,
     "metadata": {},
     "output_type": "execute_result"
    }
   ],
   "source": [
    "f = data.sqft.unique()\n",
    "len(f) ## no. of unique values of sqft"
   ]
  },
  {
   "cell_type": "markdown",
   "id": "5323aaf3",
   "metadata": {},
   "source": [
    "# Data Cleaning"
   ]
  },
  {
   "cell_type": "code",
   "execution_count": 170,
   "id": "9b5e6a5a",
   "metadata": {},
   "outputs": [],
   "source": [
    "# Example, if a square ft per bedroom is 300 (i.e. 2 bhk apartment is minimum 600 sqft. But in data, if you have for example 400 sqft apartment with 2 bhk than that seems suspicious and can be removed as an outlier. We will remove such outliers by keeping our minimum thresold per bhk to be 300 sqft¶"
   ]
  },
  {
   "cell_type": "code",
   "execution_count": 171,
   "id": "452ff310",
   "metadata": {},
   "outputs": [
    {
     "data": {
      "text/plain": [
       "(12500, 6)"
      ]
     },
     "execution_count": 171,
     "metadata": {},
     "output_type": "execute_result"
    }
   ],
   "source": [
    "data[data.sqft/data.BHK<300] # square ft per bedroom is below 300\n",
    "data = data[~(data.sqft/data.BHK<300)] ## data square ft per bedroom is equal or greater 300\n",
    "data.shape"
   ]
  },
  {
   "cell_type": "code",
   "execution_count": 172,
   "id": "71164dc1",
   "metadata": {},
   "outputs": [
    {
     "data": {
      "text/plain": [
       "False"
      ]
     },
     "execution_count": 172,
     "metadata": {},
     "output_type": "execute_result"
    }
   ],
   "source": [
    "data.isnull().values.any()"
   ]
  },
  {
   "cell_type": "code",
   "execution_count": 173,
   "id": "09f5b5b0",
   "metadata": {},
   "outputs": [
    {
     "data": {
      "text/html": [
       "<div>\n",
       "<style scoped>\n",
       "    .dataframe tbody tr th:only-of-type {\n",
       "        vertical-align: middle;\n",
       "    }\n",
       "\n",
       "    .dataframe tbody tr th {\n",
       "        vertical-align: top;\n",
       "    }\n",
       "\n",
       "    .dataframe thead th {\n",
       "        text-align: right;\n",
       "    }\n",
       "</style>\n",
       "<table border=\"1\" class=\"dataframe\">\n",
       "  <thead>\n",
       "    <tr style=\"text-align: right;\">\n",
       "      <th></th>\n",
       "      <th>location</th>\n",
       "      <th>size</th>\n",
       "      <th>sqft</th>\n",
       "      <th>bath</th>\n",
       "      <th>price</th>\n",
       "      <th>BHK</th>\n",
       "      <th>price_per_sqft</th>\n",
       "    </tr>\n",
       "  </thead>\n",
       "  <tbody>\n",
       "    <tr>\n",
       "      <th>0</th>\n",
       "      <td>Electronic City Phase II</td>\n",
       "      <td>2 BHK</td>\n",
       "      <td>1056.0</td>\n",
       "      <td>2.0</td>\n",
       "      <td>39.07</td>\n",
       "      <td>2</td>\n",
       "      <td>3699.810606</td>\n",
       "    </tr>\n",
       "    <tr>\n",
       "      <th>1</th>\n",
       "      <td>Chikka Tirupathi</td>\n",
       "      <td>4 Bedroom</td>\n",
       "      <td>2600.0</td>\n",
       "      <td>5.0</td>\n",
       "      <td>120.00</td>\n",
       "      <td>4</td>\n",
       "      <td>4615.384615</td>\n",
       "    </tr>\n",
       "    <tr>\n",
       "      <th>2</th>\n",
       "      <td>Uttarahalli</td>\n",
       "      <td>3 BHK</td>\n",
       "      <td>1440.0</td>\n",
       "      <td>2.0</td>\n",
       "      <td>62.00</td>\n",
       "      <td>3</td>\n",
       "      <td>4305.555556</td>\n",
       "    </tr>\n",
       "    <tr>\n",
       "      <th>3</th>\n",
       "      <td>Lingadheeranahalli</td>\n",
       "      <td>3 BHK</td>\n",
       "      <td>1521.0</td>\n",
       "      <td>3.0</td>\n",
       "      <td>95.00</td>\n",
       "      <td>3</td>\n",
       "      <td>6245.890861</td>\n",
       "    </tr>\n",
       "    <tr>\n",
       "      <th>4</th>\n",
       "      <td>Kothanur</td>\n",
       "      <td>2 BHK</td>\n",
       "      <td>1200.0</td>\n",
       "      <td>2.0</td>\n",
       "      <td>51.00</td>\n",
       "      <td>2</td>\n",
       "      <td>4250.000000</td>\n",
       "    </tr>\n",
       "    <tr>\n",
       "      <th>5</th>\n",
       "      <td>Whitefield</td>\n",
       "      <td>2 BHK</td>\n",
       "      <td>1170.0</td>\n",
       "      <td>2.0</td>\n",
       "      <td>38.00</td>\n",
       "      <td>2</td>\n",
       "      <td>3247.863248</td>\n",
       "    </tr>\n",
       "    <tr>\n",
       "      <th>6</th>\n",
       "      <td>Old Airport Road</td>\n",
       "      <td>4 BHK</td>\n",
       "      <td>2732.0</td>\n",
       "      <td>4.0</td>\n",
       "      <td>204.00</td>\n",
       "      <td>4</td>\n",
       "      <td>7467.057101</td>\n",
       "    </tr>\n",
       "    <tr>\n",
       "      <th>7</th>\n",
       "      <td>Rajaji Nagar</td>\n",
       "      <td>4 BHK</td>\n",
       "      <td>3300.0</td>\n",
       "      <td>4.0</td>\n",
       "      <td>600.00</td>\n",
       "      <td>4</td>\n",
       "      <td>18181.818182</td>\n",
       "    </tr>\n",
       "    <tr>\n",
       "      <th>8</th>\n",
       "      <td>Marathahalli</td>\n",
       "      <td>3 BHK</td>\n",
       "      <td>1310.0</td>\n",
       "      <td>3.0</td>\n",
       "      <td>63.25</td>\n",
       "      <td>3</td>\n",
       "      <td>4828.244275</td>\n",
       "    </tr>\n",
       "    <tr>\n",
       "      <th>10</th>\n",
       "      <td>Whitefield</td>\n",
       "      <td>3 BHK</td>\n",
       "      <td>1800.0</td>\n",
       "      <td>2.0</td>\n",
       "      <td>70.00</td>\n",
       "      <td>3</td>\n",
       "      <td>3888.888889</td>\n",
       "    </tr>\n",
       "  </tbody>\n",
       "</table>\n",
       "</div>"
      ],
      "text/plain": [
       "                    location       size    sqft  bath   price  BHK  \\\n",
       "0   Electronic City Phase II      2 BHK  1056.0   2.0   39.07    2   \n",
       "1           Chikka Tirupathi  4 Bedroom  2600.0   5.0  120.00    4   \n",
       "2                Uttarahalli      3 BHK  1440.0   2.0   62.00    3   \n",
       "3         Lingadheeranahalli      3 BHK  1521.0   3.0   95.00    3   \n",
       "4                   Kothanur      2 BHK  1200.0   2.0   51.00    2   \n",
       "5                 Whitefield      2 BHK  1170.0   2.0   38.00    2   \n",
       "6           Old Airport Road      4 BHK  2732.0   4.0  204.00    4   \n",
       "7               Rajaji Nagar      4 BHK  3300.0   4.0  600.00    4   \n",
       "8               Marathahalli      3 BHK  1310.0   3.0   63.25    3   \n",
       "10                Whitefield      3 BHK  1800.0   2.0   70.00    3   \n",
       "\n",
       "    price_per_sqft  \n",
       "0      3699.810606  \n",
       "1      4615.384615  \n",
       "2      4305.555556  \n",
       "3      6245.890861  \n",
       "4      4250.000000  \n",
       "5      3247.863248  \n",
       "6      7467.057101  \n",
       "7     18181.818182  \n",
       "8      4828.244275  \n",
       "10     3888.888889  "
      ]
     },
     "execution_count": 173,
     "metadata": {},
     "output_type": "execute_result"
    }
   ],
   "source": [
    "data = data.copy()\n",
    "data[\"price_per_sqft\"] = data[\"price\"]*100000/data[\"sqft\"]\n",
    "data.head(10)"
   ]
  },
  {
   "cell_type": "code",
   "execution_count": 174,
   "id": "72cb1339",
   "metadata": {},
   "outputs": [
    {
     "data": {
      "image/png": "[encoded data removed]",
      "text/plain": [
       "<Figure size 2000x1000 with 1 Axes>"
      ]
     },
     "metadata": {},
     "output_type": "display_data"
    }
   ],
   "source": [
    "## graph sqft Vs price:\n",
    "# plotting the points \n",
    "\n",
    "#x= np.log(data['sqft'])\n",
    "#y= np.log(data['price'])\n",
    "\n",
    "x= data['sqft']\n",
    "y= data['price']\n",
    "#plt.plot(x, y)\n",
    "plt.scatter(x, y)\n",
    "\n",
    "plt.xlabel('sqft')\n",
    "# naming the y axis\n",
    "plt.ylabel('price')\n",
    "  \n",
    "# giving a title to my graph\n",
    "#plt.title('My first graph!')\n",
    "  \n",
    "# function to show the plot\n",
    "plt.show()"
   ]
  },
  {
   "cell_type": "code",
   "execution_count": 175,
   "id": "2e8b9e0a",
   "metadata": {},
   "outputs": [
    {
     "name": "stdout",
     "output_type": "stream",
     "text": [
      "\n",
      " Numerical columns \n",
      " Index(['sqft', 'bath', 'price', 'BHK', 'price_per_sqft'], dtype='object')\n",
      "\n",
      " Catagorical columns \n",
      " ['size', 'location']\n"
     ]
    }
   ],
   "source": [
    "## check the number of catagorical and numerical columns:\n",
    "\n",
    "cols = data.columns\n",
    "\n",
    "num_cols = data._get_numeric_data().columns\n",
    "\n",
    "print(\"\\n Numerical columns \\n\",num_cols) ## numerical columns\n",
    "\n",
    "\n",
    "cata_col = list(set(cols) - set(num_cols))\n",
    "print(\"\\n Catagorical columns \\n\",cata_col)"
   ]
  },
  {
   "cell_type": "code",
   "execution_count": 176,
   "id": "38907811",
   "metadata": {},
   "outputs": [],
   "source": [
    "# Here, we are going to use Dimentionality Reduction for the data which are categorical variable. We need to apply Dimensionality Reduction here to reduce number of locations."
   ]
  },
  {
   "cell_type": "code",
   "execution_count": 177,
   "id": "19e72563",
   "metadata": {},
   "outputs": [
    {
     "data": {
      "text/plain": [
       "1221"
      ]
     },
     "execution_count": 177,
     "metadata": {},
     "output_type": "execute_result"
    }
   ],
   "source": [
    "## unique values in location columns:\n",
    "len(data.location.unique())"
   ]
  },
  {
   "cell_type": "code",
   "execution_count": 178,
   "id": "592cb366",
   "metadata": {},
   "outputs": [
    {
     "data": {
      "text/plain": [
       "location\n",
       "Whitefield                               535\n",
       "Sarjapur  Road                           389\n",
       "Electronic City                          295\n",
       "Kanakpura Road                           264\n",
       "Thanisandra                              235\n",
       "                                        ... \n",
       "Achins Road                                1\n",
       "Wajid layout thanisandra                   1\n",
       "Indranagar  100ft road defence colony      1\n",
       "Banashankari stage 2                       1\n",
       "Abshot Layout                              1\n",
       "Name: count, Length: 1211, dtype: int64"
      ]
     },
     "execution_count": 178,
     "metadata": {},
     "output_type": "execute_result"
    }
   ],
   "source": [
    "## frequency or number of counts of a location:\n",
    "data.location = data.location.apply(lambda x: x.strip())\n",
    "location_stats = data['location'].value_counts(ascending=False)\n",
    "location_stats"
   ]
  },
  {
   "cell_type": "code",
   "execution_count": 179,
   "id": "6666ab09",
   "metadata": {},
   "outputs": [
    {
     "data": {
      "text/plain": [
       "location\n",
       "1st Block Jayanagar                      10\n",
       "Nagappa Reddy Layout                     10\n",
       "Basapura                                 10\n",
       "1st Block Koramangala                    10\n",
       "Sadashiva Nagar                          10\n",
       "                                         ..\n",
       "Achins Road                               1\n",
       "Wajid layout thanisandra                  1\n",
       "Indranagar  100ft road defence colony     1\n",
       "Banashankari stage 2                      1\n",
       "Abshot Layout                             1\n",
       "Name: count, Length: 988, dtype: int64"
      ]
     },
     "execution_count": 179,
     "metadata": {},
     "output_type": "execute_result"
    }
   ],
   "source": [
    "## Identifying those locations whose frequency is equal or less than 10\n",
    "\n",
    "location_stats_less_than_10 = location_stats[location_stats<=10]\n",
    "location_stats_less_than_10"
   ]
  },
  {
   "cell_type": "code",
   "execution_count": 180,
   "id": "6fdcb4f1",
   "metadata": {},
   "outputs": [
    {
     "data": {
      "text/plain": [
       "224"
      ]
     },
     "execution_count": 180,
     "metadata": {},
     "output_type": "execute_result"
    }
   ],
   "source": [
    "## Discarding location_stats_less_than_10:\n",
    "\n",
    "data.location = data.location.apply(lambda x: 'other' if x in location_stats_less_than_10 else x)\n",
    "len(data.location.unique())"
   ]
  },
  {
   "cell_type": "code",
   "execution_count": 181,
   "id": "8a04adc5",
   "metadata": {},
   "outputs": [
    {
     "data": {
      "image/png": "[encoded data removed]",
      "text/plain": [
       "<Figure size 800x600 with 1 Axes>"
      ]
     },
     "metadata": {},
     "output_type": "display_data"
    }
   ],
   "source": [
    "def plot_scatter_chart(data,location):\n",
    "    bhk2 = data[(data.location==location) & (data.BHK==2)]\n",
    "    bhk3 = data[(data.location==location) & (data.BHK==3)]\n",
    "    matplotlib.rcParams['figure.figsize'] = (8,6)\n",
    "    plt.scatter(bhk2.sqft,bhk2.price,color='blue',label='2 BHK', s=50)\n",
    "    plt.scatter(bhk3.sqft,bhk3.price,marker='+', color='green',label='3 BHK', s=50)\n",
    "    plt.xlabel(\"Total Square Feet Area\")\n",
    "    plt.ylabel(\"Price (Lakh Indian Rupees)\")\n",
    "    plt.title(location)\n",
    "    plt.legend()\n",
    "    \n",
    "plot_scatter_chart(data,\"Raja Rajeshwari Nagar\")"
   ]
  },
  {
   "cell_type": "markdown",
   "id": "3e83a412",
   "metadata": {},
   "source": [
    "# Ploting the Scatter Chart for log-Total Square Feet Area Vs log-price"
   ]
  },
  {
   "cell_type": "code",
   "execution_count": 182,
   "id": "60f584d2",
   "metadata": {},
   "outputs": [
    {
     "data": {
      "image/png": "[encoded data removed]",
      "text/plain": [
       "<Figure size 800x600 with 1 Axes>"
      ]
     },
     "metadata": {},
     "output_type": "display_data"
    }
   ],
   "source": [
    "def plot_scatter_chart(data,location):\n",
    "    bhk2 = data[(data.location==location) & (data.BHK==2)]\n",
    "    bhk3 = data[(data.location==location) & (data.BHK==3)]\n",
    "    matplotlib.rcParams['figure.figsize'] = (8,6)\n",
    "    plt.scatter(np.log(bhk2.sqft),np.log(bhk2.price),color='blue',label='2 BHK', s=50)\n",
    "    plt.scatter(np.log(bhk3.sqft),np.log(bhk3.price),marker='+', color='green',label='3 BHK', s=50)\n",
    "    plt.xlabel(\"Total Square Feet Area\")\n",
    "    plt.ylabel(\"Price (Lakh Indian Rupees)\")\n",
    "    plt.title(location)\n",
    "    plt.legend()\n",
    "    \n",
    "plot_scatter_chart(data,\"Whitefield\")"
   ]
  },
  {
   "cell_type": "code",
   "execution_count": 183,
   "id": "8cbc76f3",
   "metadata": {},
   "outputs": [
    {
     "data": {
      "text/plain": [
       "176470.58823529413"
      ]
     },
     "execution_count": 183,
     "metadata": {},
     "output_type": "execute_result"
    }
   ],
   "source": [
    "## 'price_per_sqft' varies in very wide range.\n",
    "\n",
    "max(data['price_per_sqft'])\n"
   ]
  },
  {
   "cell_type": "code",
   "execution_count": 184,
   "id": "35159016",
   "metadata": {},
   "outputs": [
    {
     "data": {
      "text/plain": [
       "2.2574227119681667"
      ]
     },
     "execution_count": 184,
     "metadata": {},
     "output_type": "execute_result"
    }
   ],
   "source": [
    "min(data['price_per_sqft'])"
   ]
  },
  {
   "cell_type": "markdown",
   "id": "f6b0086e",
   "metadata": {},
   "source": [
    "### Ploting the histogram for Price Per Square Feet vs Count"
   ]
  },
  {
   "cell_type": "code",
   "execution_count": 185,
   "id": "38b01856",
   "metadata": {},
   "outputs": [
    {
     "data": {
      "text/plain": [
       "Text(0, 0.5, 'Count')"
      ]
     },
     "execution_count": 185,
     "metadata": {},
     "output_type": "execute_result"
    },
    {
     "data": {
      "image/png": "[encoded data removed]",
      "text/plain": [
       "<Figure size 800x600 with 1 Axes>"
      ]
     },
     "metadata": {},
     "output_type": "display_data"
    }
   ],
   "source": [
    "plt.hist(np.log(data.price_per_sqft),rwidth=0.8)\n",
    "plt.xlabel(\"Price Per Square Feet\")\n",
    "#plt.hist(data['price_per_sqft'],bins=300)\n",
    "plt.ylabel(\"Count\")##"
   ]
  },
  {
   "cell_type": "markdown",
   "id": "529c0518",
   "metadata": {},
   "source": [
    "### Plotting the Histogram for the number of Bathrooms and Count"
   ]
  },
  {
   "cell_type": "code",
   "execution_count": 186,
   "id": "52ca13a0",
   "metadata": {},
   "outputs": [
    {
     "data": {
      "text/plain": [
       "Text(0, 0.5, 'Count')"
      ]
     },
     "execution_count": 186,
     "metadata": {},
     "output_type": "execute_result"
    },
    {
     "data": {
      "image/png": "[encoded data removed]",
      "text/plain": [
       "<Figure size 800x600 with 1 Axes>"
      ]
     },
     "metadata": {},
     "output_type": "display_data"
    }
   ],
   "source": [
    "plt.hist(data.bath,rwidth=0.8)\n",
    "plt.xlabel(\"Number of bathrooms\")\n",
    "plt.ylabel(\"Count\")"
   ]
  },
  {
   "cell_type": "code",
   "execution_count": 187,
   "id": "9b448f28",
   "metadata": {},
   "outputs": [],
   "source": [
    "# It is unusual to have 2 more bathrooms than number of bedrooms in a home. So we are discarding that also."
   ]
  },
  {
   "cell_type": "code",
   "execution_count": 188,
   "id": "498e1467",
   "metadata": {},
   "outputs": [
    {
     "data": {
      "text/html": [
       "<div>\n",
       "<style scoped>\n",
       "    .dataframe tbody tr th:only-of-type {\n",
       "        vertical-align: middle;\n",
       "    }\n",
       "\n",
       "    .dataframe tbody tr th {\n",
       "        vertical-align: top;\n",
       "    }\n",
       "\n",
       "    .dataframe thead th {\n",
       "        text-align: right;\n",
       "    }\n",
       "</style>\n",
       "<table border=\"1\" class=\"dataframe\">\n",
       "  <thead>\n",
       "    <tr style=\"text-align: right;\">\n",
       "      <th></th>\n",
       "      <th>location</th>\n",
       "      <th>size</th>\n",
       "      <th>sqft</th>\n",
       "      <th>bath</th>\n",
       "      <th>price</th>\n",
       "      <th>BHK</th>\n",
       "      <th>price_per_sqft</th>\n",
       "    </tr>\n",
       "  </thead>\n",
       "  <tbody>\n",
       "    <tr>\n",
       "      <th>1076</th>\n",
       "      <td>other</td>\n",
       "      <td>9 Bedroom</td>\n",
       "      <td>3300.0</td>\n",
       "      <td>14.0</td>\n",
       "      <td>500.0</td>\n",
       "      <td>9</td>\n",
       "      <td>15151.515152</td>\n",
       "    </tr>\n",
       "    <tr>\n",
       "      <th>3093</th>\n",
       "      <td>other</td>\n",
       "      <td>10 BHK</td>\n",
       "      <td>12000.0</td>\n",
       "      <td>12.0</td>\n",
       "      <td>525.0</td>\n",
       "      <td>10</td>\n",
       "      <td>4375.000000</td>\n",
       "    </tr>\n",
       "    <tr>\n",
       "      <th>3605</th>\n",
       "      <td>other</td>\n",
       "      <td>16 BHK</td>\n",
       "      <td>10000.0</td>\n",
       "      <td>16.0</td>\n",
       "      <td>550.0</td>\n",
       "      <td>16</td>\n",
       "      <td>5500.000000</td>\n",
       "    </tr>\n",
       "    <tr>\n",
       "      <th>7974</th>\n",
       "      <td>other</td>\n",
       "      <td>11 BHK</td>\n",
       "      <td>6000.0</td>\n",
       "      <td>12.0</td>\n",
       "      <td>150.0</td>\n",
       "      <td>11</td>\n",
       "      <td>2500.000000</td>\n",
       "    </tr>\n",
       "    <tr>\n",
       "      <th>8631</th>\n",
       "      <td>Neeladri Nagar</td>\n",
       "      <td>10 BHK</td>\n",
       "      <td>4000.0</td>\n",
       "      <td>12.0</td>\n",
       "      <td>160.0</td>\n",
       "      <td>10</td>\n",
       "      <td>4000.000000</td>\n",
       "    </tr>\n",
       "    <tr>\n",
       "      <th>9930</th>\n",
       "      <td>other</td>\n",
       "      <td>13 BHK</td>\n",
       "      <td>5425.0</td>\n",
       "      <td>13.0</td>\n",
       "      <td>275.0</td>\n",
       "      <td>13</td>\n",
       "      <td>5069.124424</td>\n",
       "    </tr>\n",
       "    <tr>\n",
       "      <th>13061</th>\n",
       "      <td>other</td>\n",
       "      <td>10 Bedroom</td>\n",
       "      <td>7150.0</td>\n",
       "      <td>13.0</td>\n",
       "      <td>3600.0</td>\n",
       "      <td>10</td>\n",
       "      <td>50349.650350</td>\n",
       "    </tr>\n",
       "  </tbody>\n",
       "</table>\n",
       "</div>"
      ],
      "text/plain": [
       "             location        size     sqft  bath   price  BHK  price_per_sqft\n",
       "1076            other   9 Bedroom   3300.0  14.0   500.0    9    15151.515152\n",
       "3093            other      10 BHK  12000.0  12.0   525.0   10     4375.000000\n",
       "3605            other      16 BHK  10000.0  16.0   550.0   16     5500.000000\n",
       "7974            other      11 BHK   6000.0  12.0   150.0   11     2500.000000\n",
       "8631   Neeladri Nagar      10 BHK   4000.0  12.0   160.0   10     4000.000000\n",
       "9930            other      13 BHK   5425.0  13.0   275.0   13     5069.124424\n",
       "13061           other  10 Bedroom   7150.0  13.0  3600.0   10    50349.650350"
      ]
     },
     "execution_count": 188,
     "metadata": {},
     "output_type": "execute_result"
    }
   ],
   "source": [
    "data[data.bath>10].head(10)"
   ]
  },
  {
   "cell_type": "code",
   "execution_count": 189,
   "id": "8af11e82",
   "metadata": {},
   "outputs": [
    {
     "data": {
      "text/html": [
       "<div>\n",
       "<style scoped>\n",
       "    .dataframe tbody tr th:only-of-type {\n",
       "        vertical-align: middle;\n",
       "    }\n",
       "\n",
       "    .dataframe tbody tr th {\n",
       "        vertical-align: top;\n",
       "    }\n",
       "\n",
       "    .dataframe thead th {\n",
       "        text-align: right;\n",
       "    }\n",
       "</style>\n",
       "<table border=\"1\" class=\"dataframe\">\n",
       "  <thead>\n",
       "    <tr style=\"text-align: right;\">\n",
       "      <th></th>\n",
       "      <th>location</th>\n",
       "      <th>size</th>\n",
       "      <th>sqft</th>\n",
       "      <th>bath</th>\n",
       "      <th>price</th>\n",
       "      <th>BHK</th>\n",
       "      <th>price_per_sqft</th>\n",
       "    </tr>\n",
       "  </thead>\n",
       "  <tbody>\n",
       "    <tr>\n",
       "      <th>1076</th>\n",
       "      <td>other</td>\n",
       "      <td>9 Bedroom</td>\n",
       "      <td>3300.0</td>\n",
       "      <td>14.0</td>\n",
       "      <td>500.0</td>\n",
       "      <td>9</td>\n",
       "      <td>15151.515152</td>\n",
       "    </tr>\n",
       "    <tr>\n",
       "      <th>2617</th>\n",
       "      <td>other</td>\n",
       "      <td>6 BHK</td>\n",
       "      <td>11338.0</td>\n",
       "      <td>9.0</td>\n",
       "      <td>1000.0</td>\n",
       "      <td>6</td>\n",
       "      <td>8819.897689</td>\n",
       "    </tr>\n",
       "    <tr>\n",
       "      <th>6833</th>\n",
       "      <td>Rajaji Nagar</td>\n",
       "      <td>5 BHK</td>\n",
       "      <td>7500.0</td>\n",
       "      <td>8.0</td>\n",
       "      <td>1700.0</td>\n",
       "      <td>5</td>\n",
       "      <td>22666.666667</td>\n",
       "    </tr>\n",
       "    <tr>\n",
       "      <th>7704</th>\n",
       "      <td>Chikkabanavar</td>\n",
       "      <td>4 Bedroom</td>\n",
       "      <td>2460.0</td>\n",
       "      <td>7.0</td>\n",
       "      <td>80.0</td>\n",
       "      <td>4</td>\n",
       "      <td>3252.032520</td>\n",
       "    </tr>\n",
       "    <tr>\n",
       "      <th>9969</th>\n",
       "      <td>other</td>\n",
       "      <td>3 Bedroom</td>\n",
       "      <td>2400.0</td>\n",
       "      <td>6.0</td>\n",
       "      <td>775.0</td>\n",
       "      <td>3</td>\n",
       "      <td>32291.666667</td>\n",
       "    </tr>\n",
       "    <tr>\n",
       "      <th>11361</th>\n",
       "      <td>other</td>\n",
       "      <td>4 Bedroom</td>\n",
       "      <td>7000.0</td>\n",
       "      <td>8.0</td>\n",
       "      <td>450.0</td>\n",
       "      <td>4</td>\n",
       "      <td>6428.571429</td>\n",
       "    </tr>\n",
       "    <tr>\n",
       "      <th>12098</th>\n",
       "      <td>Thanisandra</td>\n",
       "      <td>3 BHK</td>\n",
       "      <td>1806.0</td>\n",
       "      <td>6.0</td>\n",
       "      <td>116.0</td>\n",
       "      <td>3</td>\n",
       "      <td>6423.034330</td>\n",
       "    </tr>\n",
       "    <tr>\n",
       "      <th>12438</th>\n",
       "      <td>other</td>\n",
       "      <td>4 Bedroom</td>\n",
       "      <td>4350.0</td>\n",
       "      <td>8.0</td>\n",
       "      <td>2600.0</td>\n",
       "      <td>4</td>\n",
       "      <td>59770.114943</td>\n",
       "    </tr>\n",
       "    <tr>\n",
       "      <th>13061</th>\n",
       "      <td>other</td>\n",
       "      <td>10 Bedroom</td>\n",
       "      <td>7150.0</td>\n",
       "      <td>13.0</td>\n",
       "      <td>3600.0</td>\n",
       "      <td>10</td>\n",
       "      <td>50349.650350</td>\n",
       "    </tr>\n",
       "  </tbody>\n",
       "</table>\n",
       "</div>"
      ],
      "text/plain": [
       "            location        size     sqft  bath   price  BHK  price_per_sqft\n",
       "1076           other   9 Bedroom   3300.0  14.0   500.0    9    15151.515152\n",
       "2617           other       6 BHK  11338.0   9.0  1000.0    6     8819.897689\n",
       "6833    Rajaji Nagar       5 BHK   7500.0   8.0  1700.0    5    22666.666667\n",
       "7704   Chikkabanavar   4 Bedroom   2460.0   7.0    80.0    4     3252.032520\n",
       "9969           other   3 Bedroom   2400.0   6.0   775.0    3    32291.666667\n",
       "11361          other   4 Bedroom   7000.0   8.0   450.0    4     6428.571429\n",
       "12098    Thanisandra       3 BHK   1806.0   6.0   116.0    3     6423.034330\n",
       "12438          other   4 Bedroom   4350.0   8.0  2600.0    4    59770.114943\n",
       "13061          other  10 Bedroom   7150.0  13.0  3600.0   10    50349.650350"
      ]
     },
     "execution_count": 189,
     "metadata": {},
     "output_type": "execute_result"
    }
   ],
   "source": [
    "data[data.bath>data.BHK+2]"
   ]
  },
  {
   "cell_type": "markdown",
   "id": "3526c552",
   "metadata": {},
   "source": [
    "### Using One Hot Encoding for Location"
   ]
  },
  {
   "cell_type": "code",
   "execution_count": 190,
   "id": "cb129f71",
   "metadata": {},
   "outputs": [
    {
     "data": {
      "text/html": [
       "<div>\n",
       "<style scoped>\n",
       "    .dataframe tbody tr th:only-of-type {\n",
       "        vertical-align: middle;\n",
       "    }\n",
       "\n",
       "    .dataframe tbody tr th {\n",
       "        vertical-align: top;\n",
       "    }\n",
       "\n",
       "    .dataframe thead th {\n",
       "        text-align: right;\n",
       "    }\n",
       "</style>\n",
       "<table border=\"1\" class=\"dataframe\">\n",
       "  <thead>\n",
       "    <tr style=\"text-align: right;\">\n",
       "      <th></th>\n",
       "      <th>1st Phase JP Nagar</th>\n",
       "      <th>2nd Phase Judicial Layout</th>\n",
       "      <th>5th Phase JP Nagar</th>\n",
       "      <th>6th Phase JP Nagar</th>\n",
       "      <th>7th Phase JP Nagar</th>\n",
       "      <th>8th Phase JP Nagar</th>\n",
       "      <th>9th Phase JP Nagar</th>\n",
       "      <th>AECS Layout</th>\n",
       "      <th>Abbigere</th>\n",
       "      <th>Akshaya Nagar</th>\n",
       "      <th>...</th>\n",
       "      <th>Vidyaranyapura</th>\n",
       "      <th>Vijayanagar</th>\n",
       "      <th>Vittasandra</th>\n",
       "      <th>Whitefield</th>\n",
       "      <th>Yelachenahalli</th>\n",
       "      <th>Yelahanka</th>\n",
       "      <th>Yelahanka New Town</th>\n",
       "      <th>Yelenahalli</th>\n",
       "      <th>Yeshwanthpur</th>\n",
       "      <th>other</th>\n",
       "    </tr>\n",
       "  </thead>\n",
       "  <tbody>\n",
       "    <tr>\n",
       "      <th>0</th>\n",
       "      <td>0</td>\n",
       "      <td>0</td>\n",
       "      <td>0</td>\n",
       "      <td>0</td>\n",
       "      <td>0</td>\n",
       "      <td>0</td>\n",
       "      <td>0</td>\n",
       "      <td>0</td>\n",
       "      <td>0</td>\n",
       "      <td>0</td>\n",
       "      <td>...</td>\n",
       "      <td>0</td>\n",
       "      <td>0</td>\n",
       "      <td>0</td>\n",
       "      <td>0</td>\n",
       "      <td>0</td>\n",
       "      <td>0</td>\n",
       "      <td>0</td>\n",
       "      <td>0</td>\n",
       "      <td>0</td>\n",
       "      <td>0</td>\n",
       "    </tr>\n",
       "    <tr>\n",
       "      <th>1</th>\n",
       "      <td>0</td>\n",
       "      <td>0</td>\n",
       "      <td>0</td>\n",
       "      <td>0</td>\n",
       "      <td>0</td>\n",
       "      <td>0</td>\n",
       "      <td>0</td>\n",
       "      <td>0</td>\n",
       "      <td>0</td>\n",
       "      <td>0</td>\n",
       "      <td>...</td>\n",
       "      <td>0</td>\n",
       "      <td>0</td>\n",
       "      <td>0</td>\n",
       "      <td>0</td>\n",
       "      <td>0</td>\n",
       "      <td>0</td>\n",
       "      <td>0</td>\n",
       "      <td>0</td>\n",
       "      <td>0</td>\n",
       "      <td>0</td>\n",
       "    </tr>\n",
       "    <tr>\n",
       "      <th>2</th>\n",
       "      <td>0</td>\n",
       "      <td>0</td>\n",
       "      <td>0</td>\n",
       "      <td>0</td>\n",
       "      <td>0</td>\n",
       "      <td>0</td>\n",
       "      <td>0</td>\n",
       "      <td>0</td>\n",
       "      <td>0</td>\n",
       "      <td>0</td>\n",
       "      <td>...</td>\n",
       "      <td>0</td>\n",
       "      <td>0</td>\n",
       "      <td>0</td>\n",
       "      <td>0</td>\n",
       "      <td>0</td>\n",
       "      <td>0</td>\n",
       "      <td>0</td>\n",
       "      <td>0</td>\n",
       "      <td>0</td>\n",
       "      <td>0</td>\n",
       "    </tr>\n",
       "    <tr>\n",
       "      <th>3</th>\n",
       "      <td>0</td>\n",
       "      <td>0</td>\n",
       "      <td>0</td>\n",
       "      <td>0</td>\n",
       "      <td>0</td>\n",
       "      <td>0</td>\n",
       "      <td>0</td>\n",
       "      <td>0</td>\n",
       "      <td>0</td>\n",
       "      <td>0</td>\n",
       "      <td>...</td>\n",
       "      <td>0</td>\n",
       "      <td>0</td>\n",
       "      <td>0</td>\n",
       "      <td>0</td>\n",
       "      <td>0</td>\n",
       "      <td>0</td>\n",
       "      <td>0</td>\n",
       "      <td>0</td>\n",
       "      <td>0</td>\n",
       "      <td>0</td>\n",
       "    </tr>\n",
       "    <tr>\n",
       "      <th>4</th>\n",
       "      <td>0</td>\n",
       "      <td>0</td>\n",
       "      <td>0</td>\n",
       "      <td>0</td>\n",
       "      <td>0</td>\n",
       "      <td>0</td>\n",
       "      <td>0</td>\n",
       "      <td>0</td>\n",
       "      <td>0</td>\n",
       "      <td>0</td>\n",
       "      <td>...</td>\n",
       "      <td>0</td>\n",
       "      <td>0</td>\n",
       "      <td>0</td>\n",
       "      <td>0</td>\n",
       "      <td>0</td>\n",
       "      <td>0</td>\n",
       "      <td>0</td>\n",
       "      <td>0</td>\n",
       "      <td>0</td>\n",
       "      <td>0</td>\n",
       "    </tr>\n",
       "  </tbody>\n",
       "</table>\n",
       "<p>5 rows × 224 columns</p>\n",
       "</div>"
      ],
      "text/plain": [
       "   1st Phase JP Nagar  2nd Phase Judicial Layout  5th Phase JP Nagar  \\\n",
       "0                   0                          0                   0   \n",
       "1                   0                          0                   0   \n",
       "2                   0                          0                   0   \n",
       "3                   0                          0                   0   \n",
       "4                   0                          0                   0   \n",
       "\n",
       "   6th Phase JP Nagar  7th Phase JP Nagar  8th Phase JP Nagar  \\\n",
       "0                   0                   0                   0   \n",
       "1                   0                   0                   0   \n",
       "2                   0                   0                   0   \n",
       "3                   0                   0                   0   \n",
       "4                   0                   0                   0   \n",
       "\n",
       "   9th Phase JP Nagar  AECS Layout  Abbigere  Akshaya Nagar  ...  \\\n",
       "0                   0            0         0              0  ...   \n",
       "1                   0            0         0              0  ...   \n",
       "2                   0            0         0              0  ...   \n",
       "3                   0            0         0              0  ...   \n",
       "4                   0            0         0              0  ...   \n",
       "\n",
       "   Vidyaranyapura  Vijayanagar  Vittasandra  Whitefield  Yelachenahalli  \\\n",
       "0               0            0            0           0               0   \n",
       "1               0            0            0           0               0   \n",
       "2               0            0            0           0               0   \n",
       "3               0            0            0           0               0   \n",
       "4               0            0            0           0               0   \n",
       "\n",
       "   Yelahanka  Yelahanka New Town  Yelenahalli  Yeshwanthpur  other  \n",
       "0          0                   0            0             0      0  \n",
       "1          0                   0            0             0      0  \n",
       "2          0                   0            0             0      0  \n",
       "3          0                   0            0             0      0  \n",
       "4          0                   0            0             0      0  \n",
       "\n",
       "[5 rows x 224 columns]"
      ]
     },
     "execution_count": 190,
     "metadata": {},
     "output_type": "execute_result"
    }
   ],
   "source": [
    "dummies = pd.get_dummies(data.location, dtype=int)\n",
    "dummies.head()\n",
    "#dummies.isnull().values.any()"
   ]
  },
  {
   "cell_type": "markdown",
   "id": "1fda9a9b",
   "metadata": {},
   "source": [
    "### Concatanating both the data frames together"
   ]
  },
  {
   "cell_type": "code",
   "execution_count": 191,
   "id": "193adb62",
   "metadata": {},
   "outputs": [
    {
     "data": {
      "text/html": [
       "<div>\n",
       "<style scoped>\n",
       "    .dataframe tbody tr th:only-of-type {\n",
       "        vertical-align: middle;\n",
       "    }\n",
       "\n",
       "    .dataframe tbody tr th {\n",
       "        vertical-align: top;\n",
       "    }\n",
       "\n",
       "    .dataframe thead th {\n",
       "        text-align: right;\n",
       "    }\n",
       "</style>\n",
       "<table border=\"1\" class=\"dataframe\">\n",
       "  <thead>\n",
       "    <tr style=\"text-align: right;\">\n",
       "      <th></th>\n",
       "      <th>location</th>\n",
       "      <th>size</th>\n",
       "      <th>sqft</th>\n",
       "      <th>bath</th>\n",
       "      <th>price</th>\n",
       "      <th>BHK</th>\n",
       "      <th>price_per_sqft</th>\n",
       "      <th>1st Phase JP Nagar</th>\n",
       "      <th>2nd Phase Judicial Layout</th>\n",
       "      <th>5th Phase JP Nagar</th>\n",
       "      <th>...</th>\n",
       "      <th>Vasanthapura</th>\n",
       "      <th>Vidyaranyapura</th>\n",
       "      <th>Vijayanagar</th>\n",
       "      <th>Vittasandra</th>\n",
       "      <th>Whitefield</th>\n",
       "      <th>Yelachenahalli</th>\n",
       "      <th>Yelahanka</th>\n",
       "      <th>Yelahanka New Town</th>\n",
       "      <th>Yelenahalli</th>\n",
       "      <th>Yeshwanthpur</th>\n",
       "    </tr>\n",
       "  </thead>\n",
       "  <tbody>\n",
       "    <tr>\n",
       "      <th>0</th>\n",
       "      <td>Electronic City Phase II</td>\n",
       "      <td>2 BHK</td>\n",
       "      <td>1056.0</td>\n",
       "      <td>2.0</td>\n",
       "      <td>39.07</td>\n",
       "      <td>2</td>\n",
       "      <td>3699.810606</td>\n",
       "      <td>0</td>\n",
       "      <td>0</td>\n",
       "      <td>0</td>\n",
       "      <td>...</td>\n",
       "      <td>0</td>\n",
       "      <td>0</td>\n",
       "      <td>0</td>\n",
       "      <td>0</td>\n",
       "      <td>0</td>\n",
       "      <td>0</td>\n",
       "      <td>0</td>\n",
       "      <td>0</td>\n",
       "      <td>0</td>\n",
       "      <td>0</td>\n",
       "    </tr>\n",
       "    <tr>\n",
       "      <th>1</th>\n",
       "      <td>Chikka Tirupathi</td>\n",
       "      <td>4 Bedroom</td>\n",
       "      <td>2600.0</td>\n",
       "      <td>5.0</td>\n",
       "      <td>120.00</td>\n",
       "      <td>4</td>\n",
       "      <td>4615.384615</td>\n",
       "      <td>0</td>\n",
       "      <td>0</td>\n",
       "      <td>0</td>\n",
       "      <td>...</td>\n",
       "      <td>0</td>\n",
       "      <td>0</td>\n",
       "      <td>0</td>\n",
       "      <td>0</td>\n",
       "      <td>0</td>\n",
       "      <td>0</td>\n",
       "      <td>0</td>\n",
       "      <td>0</td>\n",
       "      <td>0</td>\n",
       "      <td>0</td>\n",
       "    </tr>\n",
       "    <tr>\n",
       "      <th>2</th>\n",
       "      <td>Uttarahalli</td>\n",
       "      <td>3 BHK</td>\n",
       "      <td>1440.0</td>\n",
       "      <td>2.0</td>\n",
       "      <td>62.00</td>\n",
       "      <td>3</td>\n",
       "      <td>4305.555556</td>\n",
       "      <td>0</td>\n",
       "      <td>0</td>\n",
       "      <td>0</td>\n",
       "      <td>...</td>\n",
       "      <td>0</td>\n",
       "      <td>0</td>\n",
       "      <td>0</td>\n",
       "      <td>0</td>\n",
       "      <td>0</td>\n",
       "      <td>0</td>\n",
       "      <td>0</td>\n",
       "      <td>0</td>\n",
       "      <td>0</td>\n",
       "      <td>0</td>\n",
       "    </tr>\n",
       "    <tr>\n",
       "      <th>3</th>\n",
       "      <td>Lingadheeranahalli</td>\n",
       "      <td>3 BHK</td>\n",
       "      <td>1521.0</td>\n",
       "      <td>3.0</td>\n",
       "      <td>95.00</td>\n",
       "      <td>3</td>\n",
       "      <td>6245.890861</td>\n",
       "      <td>0</td>\n",
       "      <td>0</td>\n",
       "      <td>0</td>\n",
       "      <td>...</td>\n",
       "      <td>0</td>\n",
       "      <td>0</td>\n",
       "      <td>0</td>\n",
       "      <td>0</td>\n",
       "      <td>0</td>\n",
       "      <td>0</td>\n",
       "      <td>0</td>\n",
       "      <td>0</td>\n",
       "      <td>0</td>\n",
       "      <td>0</td>\n",
       "    </tr>\n",
       "    <tr>\n",
       "      <th>4</th>\n",
       "      <td>Kothanur</td>\n",
       "      <td>2 BHK</td>\n",
       "      <td>1200.0</td>\n",
       "      <td>2.0</td>\n",
       "      <td>51.00</td>\n",
       "      <td>2</td>\n",
       "      <td>4250.000000</td>\n",
       "      <td>0</td>\n",
       "      <td>0</td>\n",
       "      <td>0</td>\n",
       "      <td>...</td>\n",
       "      <td>0</td>\n",
       "      <td>0</td>\n",
       "      <td>0</td>\n",
       "      <td>0</td>\n",
       "      <td>0</td>\n",
       "      <td>0</td>\n",
       "      <td>0</td>\n",
       "      <td>0</td>\n",
       "      <td>0</td>\n",
       "      <td>0</td>\n",
       "    </tr>\n",
       "  </tbody>\n",
       "</table>\n",
       "<p>5 rows × 230 columns</p>\n",
       "</div>"
      ],
      "text/plain": [
       "                   location       size    sqft  bath   price  BHK  \\\n",
       "0  Electronic City Phase II      2 BHK  1056.0   2.0   39.07    2   \n",
       "1          Chikka Tirupathi  4 Bedroom  2600.0   5.0  120.00    4   \n",
       "2               Uttarahalli      3 BHK  1440.0   2.0   62.00    3   \n",
       "3        Lingadheeranahalli      3 BHK  1521.0   3.0   95.00    3   \n",
       "4                  Kothanur      2 BHK  1200.0   2.0   51.00    2   \n",
       "\n",
       "   price_per_sqft  1st Phase JP Nagar  2nd Phase Judicial Layout  \\\n",
       "0     3699.810606                   0                          0   \n",
       "1     4615.384615                   0                          0   \n",
       "2     4305.555556                   0                          0   \n",
       "3     6245.890861                   0                          0   \n",
       "4     4250.000000                   0                          0   \n",
       "\n",
       "   5th Phase JP Nagar  ...  Vasanthapura  Vidyaranyapura  Vijayanagar  \\\n",
       "0                   0  ...             0               0            0   \n",
       "1                   0  ...             0               0            0   \n",
       "2                   0  ...             0               0            0   \n",
       "3                   0  ...             0               0            0   \n",
       "4                   0  ...             0               0            0   \n",
       "\n",
       "   Vittasandra  Whitefield  Yelachenahalli  Yelahanka  Yelahanka New Town  \\\n",
       "0            0           0               0          0                   0   \n",
       "1            0           0               0          0                   0   \n",
       "2            0           0               0          0                   0   \n",
       "3            0           0               0          0                   0   \n",
       "4            0           0               0          0                   0   \n",
       "\n",
       "   Yelenahalli  Yeshwanthpur  \n",
       "0            0             0  \n",
       "1            0             0  \n",
       "2            0             0  \n",
       "3            0             0  \n",
       "4            0             0  \n",
       "\n",
       "[5 rows x 230 columns]"
      ]
     },
     "execution_count": 191,
     "metadata": {},
     "output_type": "execute_result"
    }
   ],
   "source": [
    "data = pd.concat([data,dummies.drop('other',axis='columns')],axis='columns')\n",
    "data.head()"
   ]
  },
  {
   "cell_type": "markdown",
   "id": "dee2a592",
   "metadata": {},
   "source": [
    "### Final dataset to trained model"
   ]
  },
  {
   "cell_type": "code",
   "execution_count": 192,
   "id": "2f41dcdc",
   "metadata": {},
   "outputs": [],
   "source": [
    "data = data.drop('location',axis='columns')"
   ]
  },
  {
   "cell_type": "code",
   "execution_count": 193,
   "id": "3b0aeca7",
   "metadata": {},
   "outputs": [],
   "source": [
    "data = data.dropna()"
   ]
  },
  {
   "cell_type": "code",
   "execution_count": 194,
   "id": "c355bb23",
   "metadata": {},
   "outputs": [],
   "source": [
    "X = data.drop(['price'],axis='columns')"
   ]
  },
  {
   "cell_type": "code",
   "execution_count": 195,
   "id": "f7c28974",
   "metadata": {},
   "outputs": [],
   "source": [
    "X = X.drop(['size'],axis='columns')"
   ]
  },
  {
   "cell_type": "code",
   "execution_count": 196,
   "id": "3a8ea0f5",
   "metadata": {},
   "outputs": [
    {
     "data": {
      "text/html": [
       "<div>\n",
       "<style scoped>\n",
       "    .dataframe tbody tr th:only-of-type {\n",
       "        vertical-align: middle;\n",
       "    }\n",
       "\n",
       "    .dataframe tbody tr th {\n",
       "        vertical-align: top;\n",
       "    }\n",
       "\n",
       "    .dataframe thead th {\n",
       "        text-align: right;\n",
       "    }\n",
       "</style>\n",
       "<table border=\"1\" class=\"dataframe\">\n",
       "  <thead>\n",
       "    <tr style=\"text-align: right;\">\n",
       "      <th></th>\n",
       "      <th>sqft</th>\n",
       "      <th>bath</th>\n",
       "      <th>BHK</th>\n",
       "      <th>1st Phase JP Nagar</th>\n",
       "      <th>2nd Phase Judicial Layout</th>\n",
       "      <th>5th Phase JP Nagar</th>\n",
       "      <th>6th Phase JP Nagar</th>\n",
       "      <th>7th Phase JP Nagar</th>\n",
       "      <th>8th Phase JP Nagar</th>\n",
       "      <th>9th Phase JP Nagar</th>\n",
       "      <th>...</th>\n",
       "      <th>Vasanthapura</th>\n",
       "      <th>Vidyaranyapura</th>\n",
       "      <th>Vijayanagar</th>\n",
       "      <th>Vittasandra</th>\n",
       "      <th>Whitefield</th>\n",
       "      <th>Yelachenahalli</th>\n",
       "      <th>Yelahanka</th>\n",
       "      <th>Yelahanka New Town</th>\n",
       "      <th>Yelenahalli</th>\n",
       "      <th>Yeshwanthpur</th>\n",
       "    </tr>\n",
       "  </thead>\n",
       "  <tbody>\n",
       "    <tr>\n",
       "      <th>0</th>\n",
       "      <td>1056.0</td>\n",
       "      <td>2.0</td>\n",
       "      <td>2</td>\n",
       "      <td>0</td>\n",
       "      <td>0</td>\n",
       "      <td>0</td>\n",
       "      <td>0</td>\n",
       "      <td>0</td>\n",
       "      <td>0</td>\n",
       "      <td>0</td>\n",
       "      <td>...</td>\n",
       "      <td>0</td>\n",
       "      <td>0</td>\n",
       "      <td>0</td>\n",
       "      <td>0</td>\n",
       "      <td>0</td>\n",
       "      <td>0</td>\n",
       "      <td>0</td>\n",
       "      <td>0</td>\n",
       "      <td>0</td>\n",
       "      <td>0</td>\n",
       "    </tr>\n",
       "    <tr>\n",
       "      <th>1</th>\n",
       "      <td>2600.0</td>\n",
       "      <td>5.0</td>\n",
       "      <td>4</td>\n",
       "      <td>0</td>\n",
       "      <td>0</td>\n",
       "      <td>0</td>\n",
       "      <td>0</td>\n",
       "      <td>0</td>\n",
       "      <td>0</td>\n",
       "      <td>0</td>\n",
       "      <td>...</td>\n",
       "      <td>0</td>\n",
       "      <td>0</td>\n",
       "      <td>0</td>\n",
       "      <td>0</td>\n",
       "      <td>0</td>\n",
       "      <td>0</td>\n",
       "      <td>0</td>\n",
       "      <td>0</td>\n",
       "      <td>0</td>\n",
       "      <td>0</td>\n",
       "    </tr>\n",
       "    <tr>\n",
       "      <th>2</th>\n",
       "      <td>1440.0</td>\n",
       "      <td>2.0</td>\n",
       "      <td>3</td>\n",
       "      <td>0</td>\n",
       "      <td>0</td>\n",
       "      <td>0</td>\n",
       "      <td>0</td>\n",
       "      <td>0</td>\n",
       "      <td>0</td>\n",
       "      <td>0</td>\n",
       "      <td>...</td>\n",
       "      <td>0</td>\n",
       "      <td>0</td>\n",
       "      <td>0</td>\n",
       "      <td>0</td>\n",
       "      <td>0</td>\n",
       "      <td>0</td>\n",
       "      <td>0</td>\n",
       "      <td>0</td>\n",
       "      <td>0</td>\n",
       "      <td>0</td>\n",
       "    </tr>\n",
       "    <tr>\n",
       "      <th>3</th>\n",
       "      <td>1521.0</td>\n",
       "      <td>3.0</td>\n",
       "      <td>3</td>\n",
       "      <td>0</td>\n",
       "      <td>0</td>\n",
       "      <td>0</td>\n",
       "      <td>0</td>\n",
       "      <td>0</td>\n",
       "      <td>0</td>\n",
       "      <td>0</td>\n",
       "      <td>...</td>\n",
       "      <td>0</td>\n",
       "      <td>0</td>\n",
       "      <td>0</td>\n",
       "      <td>0</td>\n",
       "      <td>0</td>\n",
       "      <td>0</td>\n",
       "      <td>0</td>\n",
       "      <td>0</td>\n",
       "      <td>0</td>\n",
       "      <td>0</td>\n",
       "    </tr>\n",
       "    <tr>\n",
       "      <th>4</th>\n",
       "      <td>1200.0</td>\n",
       "      <td>2.0</td>\n",
       "      <td>2</td>\n",
       "      <td>0</td>\n",
       "      <td>0</td>\n",
       "      <td>0</td>\n",
       "      <td>0</td>\n",
       "      <td>0</td>\n",
       "      <td>0</td>\n",
       "      <td>0</td>\n",
       "      <td>...</td>\n",
       "      <td>0</td>\n",
       "      <td>0</td>\n",
       "      <td>0</td>\n",
       "      <td>0</td>\n",
       "      <td>0</td>\n",
       "      <td>0</td>\n",
       "      <td>0</td>\n",
       "      <td>0</td>\n",
       "      <td>0</td>\n",
       "      <td>0</td>\n",
       "    </tr>\n",
       "  </tbody>\n",
       "</table>\n",
       "<p>5 rows × 226 columns</p>\n",
       "</div>"
      ],
      "text/plain": [
       "     sqft  bath  BHK  1st Phase JP Nagar  2nd Phase Judicial Layout  \\\n",
       "0  1056.0   2.0    2                   0                          0   \n",
       "1  2600.0   5.0    4                   0                          0   \n",
       "2  1440.0   2.0    3                   0                          0   \n",
       "3  1521.0   3.0    3                   0                          0   \n",
       "4  1200.0   2.0    2                   0                          0   \n",
       "\n",
       "   5th Phase JP Nagar  6th Phase JP Nagar  7th Phase JP Nagar  \\\n",
       "0                   0                   0                   0   \n",
       "1                   0                   0                   0   \n",
       "2                   0                   0                   0   \n",
       "3                   0                   0                   0   \n",
       "4                   0                   0                   0   \n",
       "\n",
       "   8th Phase JP Nagar  9th Phase JP Nagar  ...  Vasanthapura  Vidyaranyapura  \\\n",
       "0                   0                   0  ...             0               0   \n",
       "1                   0                   0  ...             0               0   \n",
       "2                   0                   0  ...             0               0   \n",
       "3                   0                   0  ...             0               0   \n",
       "4                   0                   0  ...             0               0   \n",
       "\n",
       "   Vijayanagar  Vittasandra  Whitefield  Yelachenahalli  Yelahanka  \\\n",
       "0            0            0           0               0          0   \n",
       "1            0            0           0               0          0   \n",
       "2            0            0           0               0          0   \n",
       "3            0            0           0               0          0   \n",
       "4            0            0           0               0          0   \n",
       "\n",
       "   Yelahanka New Town  Yelenahalli  Yeshwanthpur  \n",
       "0                   0            0             0  \n",
       "1                   0            0             0  \n",
       "2                   0            0             0  \n",
       "3                   0            0             0  \n",
       "4                   0            0             0  \n",
       "\n",
       "[5 rows x 226 columns]"
      ]
     },
     "execution_count": 196,
     "metadata": {},
     "output_type": "execute_result"
    }
   ],
   "source": [
    "X = X.drop(['price_per_sqft'],axis='columns')\n",
    "X.head()"
   ]
  },
  {
   "cell_type": "code",
   "execution_count": 197,
   "id": "86f143c7",
   "metadata": {},
   "outputs": [
    {
     "data": {
      "text/plain": [
       "(12500, 226)"
      ]
     },
     "execution_count": 197,
     "metadata": {},
     "output_type": "execute_result"
    }
   ],
   "source": [
    "X.shape"
   ]
  },
  {
   "cell_type": "code",
   "execution_count": 198,
   "id": "050bee63",
   "metadata": {},
   "outputs": [
    {
     "data": {
      "text/plain": [
       "sqft                         0\n",
       "bath                         0\n",
       "BHK                          0\n",
       "1st Phase JP Nagar           0\n",
       "2nd Phase Judicial Layout    0\n",
       "                            ..\n",
       "Yelachenahalli               0\n",
       "Yelahanka                    0\n",
       "Yelahanka New Town           0\n",
       "Yelenahalli                  0\n",
       "Yeshwanthpur                 0\n",
       "Length: 226, dtype: int64"
      ]
     },
     "execution_count": 198,
     "metadata": {},
     "output_type": "execute_result"
    }
   ],
   "source": [
    "X.isna().sum() "
   ]
  },
  {
   "cell_type": "code",
   "execution_count": 200,
   "id": "98df0fc8",
   "metadata": {},
   "outputs": [
    {
     "data": {
      "text/plain": [
       "(12500, 226)"
      ]
     },
     "execution_count": 200,
     "metadata": {},
     "output_type": "execute_result"
    }
   ],
   "source": [
    "X.shape"
   ]
  },
  {
   "cell_type": "code",
   "execution_count": 199,
   "id": "a5779622",
   "metadata": {},
   "outputs": [
    {
     "data": {
      "text/plain": [
       "0     39.07\n",
       "1    120.00\n",
       "2     62.00\n",
       "3     95.00\n",
       "4     51.00\n",
       "Name: price, dtype: float64"
      ]
     },
     "execution_count": 199,
     "metadata": {},
     "output_type": "execute_result"
    }
   ],
   "source": [
    "y = data.price\n",
    "y.head()"
   ]
  },
  {
   "cell_type": "markdown",
   "id": "33a377c3",
   "metadata": {},
   "source": [
    "### Train-test split"
   ]
  },
  {
   "cell_type": "code",
   "execution_count": 201,
   "id": "9d1f8105",
   "metadata": {},
   "outputs": [],
   "source": [
    "X_train, X_test, y_train, y_test = train_test_split(X,y,test_size=0.3,random_state=42)"
   ]
  },
  {
   "cell_type": "code",
   "execution_count": 202,
   "id": "b7eec928",
   "metadata": {},
   "outputs": [
    {
     "data": {
      "text/html": [
       "<style>#sk-container-id-1 {color: black;}#sk-container-id-1 pre{padding: 0;}#sk-container-id-1 div.sk-toggleable {background-color: white;}#sk-container-id-1 label.sk-toggleable__label {cursor: pointer;display: block;width: 100%;margin-bottom: 0;padding: 0.3em;box-sizing: border-box;text-align: center;}#sk-container-id-1 label.sk-toggleable__label-arrow:before {content: \"▸\";float: left;margin-right: 0.25em;color: #696969;}#sk-container-id-1 label.sk-toggleable__label-arrow:hover:before {color: black;}#sk-container-id-1 div.sk-estimator:hover label.sk-toggleable__label-arrow:before {color: black;}#sk-container-id-1 div.sk-toggleable__content {max-height: 0;max-width: 0;overflow: hidden;text-align: left;background-color: #f0f8ff;}#sk-container-id-1 div.sk-toggleable__content pre {margin: 0.2em;color: black;border-radius: 0.25em;background-color: #f0f8ff;}#sk-container-id-1 input.sk-toggleable__control:checked~div.sk-toggleable__content {max-height: 200px;max-width: 100%;overflow: auto;}#sk-container-id-1 input.sk-toggleable__control:checked~label.sk-toggleable__label-arrow:before {content: \"▾\";}#sk-container-id-1 div.sk-estimator input.sk-toggleable__control:checked~label.sk-toggleable__label {background-color: #d4ebff;}#sk-container-id-1 div.sk-label input.sk-toggleable__control:checked~label.sk-toggleable__label {background-color: #d4ebff;}#sk-container-id-1 input.sk-hidden--visually {border: 0;clip: rect(1px 1px 1px 1px);clip: rect(1px, 1px, 1px, 1px);height: 1px;margin: -1px;overflow: hidden;padding: 0;position: absolute;width: 1px;}#sk-container-id-1 div.sk-estimator {font-family: monospace;background-color: #f0f8ff;border: 1px dotted black;border-radius: 0.25em;box-sizing: border-box;margin-bottom: 0.5em;}#sk-container-id-1 div.sk-estimator:hover {background-color: #d4ebff;}#sk-container-id-1 div.sk-parallel-item::after {content: \"\";width: 100%;border-bottom: 1px solid gray;flex-grow: 1;}#sk-container-id-1 div.sk-label:hover label.sk-toggleable__label {background-color: #d4ebff;}#sk-container-id-1 div.sk-serial::before {content: \"\";position: absolute;border-left: 1px solid gray;box-sizing: border-box;top: 0;bottom: 0;left: 50%;z-index: 0;}#sk-container-id-1 div.sk-serial {display: flex;flex-direction: column;align-items: center;background-color: white;padding-right: 0.2em;padding-left: 0.2em;position: relative;}#sk-container-id-1 div.sk-item {position: relative;z-index: 1;}#sk-container-id-1 div.sk-parallel {display: flex;align-items: stretch;justify-content: center;background-color: white;position: relative;}#sk-container-id-1 div.sk-item::before, #sk-container-id-1 div.sk-parallel-item::before {content: \"\";position: absolute;border-left: 1px solid gray;box-sizing: border-box;top: 0;bottom: 0;left: 50%;z-index: -1;}#sk-container-id-1 div.sk-parallel-item {display: flex;flex-direction: column;z-index: 1;position: relative;background-color: white;}#sk-container-id-1 div.sk-parallel-item:first-child::after {align-self: flex-end;width: 50%;}#sk-container-id-1 div.sk-parallel-item:last-child::after {align-self: flex-start;width: 50%;}#sk-container-id-1 div.sk-parallel-item:only-child::after {width: 0;}#sk-container-id-1 div.sk-dashed-wrapped {border: 1px dashed gray;margin: 0 0.4em 0.5em 0.4em;box-sizing: border-box;padding-bottom: 0.4em;background-color: white;}#sk-container-id-1 div.sk-label label {font-family: monospace;font-weight: bold;display: inline-block;line-height: 1.2em;}#sk-container-id-1 div.sk-label-container {text-align: center;}#sk-container-id-1 div.sk-container {/* jupyter's `normalize.less` sets `[hidden] { display: none; }` but bootstrap.min.css set `[hidden] { display: none !important; }` so we also need the `!important` here to be able to override the default hidden behavior on the sphinx rendered scikit-learn.org. See: https://github.com/scikit-learn/scikit-learn/issues/21755 */display: inline-block !important;position: relative;}#sk-container-id-1 div.sk-text-repr-fallback {display: none;}</style><div id=\"sk-container-id-1\" class=\"sk-top-container\"><div class=\"sk-text-repr-fallback\"><pre>LinearRegression()</pre><b>In a Jupyter environment, please rerun this cell to show the HTML representation or trust the notebook. <br />On GitHub, the HTML representation is unable to render, please try loading this page with nbviewer.org.</b></div><div class=\"sk-container\" hidden><div class=\"sk-item\"><div class=\"sk-estimator sk-toggleable\"><input class=\"sk-toggleable__control sk-hidden--visually\" id=\"sk-estimator-id-1\" type=\"checkbox\" checked><label for=\"sk-estimator-id-1\" class=\"sk-toggleable__label sk-toggleable__label-arrow\">LinearRegression</label><div class=\"sk-toggleable__content\"><pre>LinearRegression()</pre></div></div></div></div></div>"
      ],
      "text/plain": [
       "LinearRegression()"
      ]
     },
     "execution_count": 202,
     "metadata": {},
     "output_type": "execute_result"
    }
   ],
   "source": [
    "from sklearn import datasets, linear_model, metrics\n",
    "\n",
    "# create linear regression object\n",
    "reg = linear_model.LinearRegression()\n",
    "  \n",
    "# train the model using the training sets\n",
    "reg.fit(X_train, y_train)\n",
    "  \n",
    "# regression coefficients\n",
    "#print('Coefficients: ', reg.coef_)"
   ]
  },
  {
   "cell_type": "code",
   "execution_count": 203,
   "id": "80e0eb7e",
   "metadata": {},
   "outputs": [
    {
     "name": "stdout",
     "output_type": "stream",
     "text": [
      "Variance score: 0.3832234502267289\n"
     ]
    }
   ],
   "source": [
    "print('Variance score: {}'.format(reg.score(X_test, y_test)))"
   ]
  },
  {
   "cell_type": "code",
   "execution_count": 204,
   "id": "c7be3bc3",
   "metadata": {},
   "outputs": [
    {
     "data": {
      "image/png": "[encoded data removed]",
      "text/plain": [
       "<Figure size 800x600 with 1 Axes>"
      ]
     },
     "metadata": {},
     "output_type": "display_data"
    }
   ],
   "source": [
    "# plot for residual error\n",
    "  \n",
    "## setting plot style\n",
    "plt.style.use('fivethirtyeight')\n",
    "  \n",
    "## plotting residual errors in training data\n",
    "plt.scatter(reg.predict(X_train), reg.predict(X_train) - y_train,\n",
    "            color = \"green\", s = 10, label = 'Train data')\n",
    "  \n",
    "## plotting residual errors in test data\n",
    "plt.scatter(reg.predict(X_test), reg.predict(X_test) - y_test,\n",
    "            color = \"blue\", s = 10, label = 'Test data')\n",
    "  \n",
    "## plotting line for zero residual error\n",
    "plt.hlines(y = 0, xmin = 0, xmax = 50, linewidth = 2)\n",
    "  \n",
    "## plotting legend\n",
    "plt.legend(loc = 'upper right')\n",
    "  \n",
    "## plot title\n",
    "plt.title(\"Residual errors\")\n",
    "  \n",
    "## method call for showing the plot\n",
    "plt.show()"
   ]
  },
  {
   "cell_type": "code",
   "execution_count": 205,
   "id": "6ae56e8c",
   "metadata": {},
   "outputs": [
    {
     "name": "stdout",
     "output_type": "stream",
     "text": [
      "                                 OLS Regression Results                                \n",
      "=======================================================================================\n",
      "Dep. Variable:                  price   R-squared (uncentered):                   0.557\n",
      "Model:                            OLS   Adj. R-squared (uncentered):              0.545\n",
      "Method:                 Least Squares   F-statistic:                              47.43\n",
      "Date:                Sun, 16 Mar 2025   Prob (F-statistic):                        0.00\n",
      "Time:                        16:16:38   Log-Likelihood:                         -54930.\n",
      "No. Observations:                8750   AIC:                                  1.103e+05\n",
      "Df Residuals:                    8524   BIC:                                  1.119e+05\n",
      "Df Model:                         226                                                  \n",
      "Covariance Type:            nonrobust                                                  \n",
      "===============================================================================================\n",
      "                                  coef    std err          t      P>|t|      [0.025      0.975]\n",
      "-----------------------------------------------------------------------------------------------\n",
      "sqft                            0.0002   8.76e-05      1.761      0.078   -1.74e-05       0.000\n",
      "bath                           63.4192      2.736     23.179      0.000      58.056      68.783\n",
      "BHK                            -1.4392      2.763     -0.521      0.602      -6.855       3.977\n",
      "1st Phase JP Nagar              2.9094     30.057      0.097      0.923     -56.010      61.829\n",
      "2nd Phase Judicial Layout     -79.5729     43.573     -1.826      0.068    -164.986       5.840\n",
      "5th Phase JP Nagar            -90.5869     27.320     -3.316      0.001    -144.142     -37.032\n",
      "6th Phase JP Nagar            -32.9251     33.775     -0.975      0.330     -99.132      33.282\n",
      "7th Phase JP Nagar            -55.2986     12.650     -4.371      0.000     -80.095     -30.502\n",
      "8th Phase JP Nagar            -77.9469     22.488     -3.466      0.001    -122.029     -33.865\n",
      "9th Phase JP Nagar            -61.4834     27.312     -2.251      0.024    -115.021      -7.946\n",
      "AECS Layout                   -72.8441     58.421     -1.247      0.212    -187.364      41.676\n",
      "Abbigere                     -100.2311     37.753     -2.655      0.008    -174.235     -26.227\n",
      "Akshaya Nagar                 -72.9578     19.815     -3.682      0.000    -111.799     -34.117\n",
      "Ambalipura                    -48.0578     29.275     -1.642      0.101    -105.443       9.328\n",
      "Ambedkar Nagar                -44.3627     26.300     -1.687      0.092     -95.917       7.192\n",
      "Amruthahalli                  -45.2624     30.843     -1.468      0.142    -105.722      15.197\n",
      "Anandapura                    -80.5982     34.944     -2.306      0.021    -149.098     -12.099\n",
      "Ananth Nagar                  -92.6497     26.712     -3.468      0.001    -145.012     -40.288\n",
      "Anekal                        -73.0354     26.723     -2.733      0.006    -125.418     -20.652\n",
      "Anjanapura                    -90.8984     39.428     -2.305      0.021    -168.186     -13.610\n",
      "Ardendale                     -56.5526     29.326     -1.928      0.054    -114.038       0.933\n",
      "Arekere                       -73.1946     49.405     -1.482      0.139    -170.040      23.651\n",
      "Attibele                      -68.4321     23.498     -2.912      0.004    -114.494     -22.370\n",
      "BEML Layout                   -37.5543     49.403     -0.760      0.447    -134.396      59.288\n",
      "BTM 2nd Stage                  -1.2792     28.581     -0.045      0.964     -57.305      54.746\n",
      "BTM Layout                    -64.1802     41.367     -1.551      0.121    -145.269      16.908\n",
      "Babusapalaya                  -79.7203     33.792     -2.359      0.018    -145.961     -13.480\n",
      "Badavala Nagar                -49.8537     43.578     -1.144      0.253    -135.278      35.570\n",
      "Balagere                      -50.7466     24.295     -2.089      0.037     -98.371      -3.122\n",
      "Banashankari                  -62.0250     19.371     -3.202      0.001     -99.996     -24.054\n",
      "Banashankari Stage II          40.3586     43.613      0.925      0.355     -45.134     125.851\n",
      "Banashankari Stage III        -68.6597     35.001     -1.962      0.050    -137.270      -0.050\n",
      "Banashankari Stage V          -98.1944     46.228     -2.124      0.034    -188.812      -7.577\n",
      "Banashankari Stage VI         -73.7573     49.416     -1.493      0.136    -170.625      23.110\n",
      "Banaswadi                     -87.0393     41.343     -2.105      0.035    -168.082      -5.996\n",
      "Bannerghatta                  -54.0490     49.420     -1.094      0.274    -150.924      42.826\n",
      "Bannerghatta Road             -57.5193     13.078     -4.398      0.000     -83.156     -31.883\n",
      "Basavangudi                     7.3444     27.328      0.269      0.788     -46.226      60.914\n",
      "Basaveshwara Nagar             -5.9351     35.005     -0.170      0.865     -74.553      62.683\n",
      "Battarahalli                  -75.7509     32.712     -2.316      0.021    -139.875     -11.627\n",
      "Begur                         -95.9291     37.781     -2.539      0.011    -169.989     -21.869\n",
      "Begur Road                    -79.9221     16.590     -4.817      0.000    -112.443     -47.401\n",
      "Bellandur                     -66.9447     15.768     -4.246      0.000     -97.853     -36.036\n",
      "Benson Town                   206.9536     46.300      4.470      0.000     116.194     297.713\n",
      "Bharathi Nagar                -63.0050     49.384     -1.276      0.202    -159.809      33.799\n",
      "Bhoganhalli                   -83.2872     22.533     -3.696      0.000    -127.458     -39.116\n",
      "Billekahalli                  -67.9017     36.277     -1.872      0.061    -139.014       3.211\n",
      "Binny Pete                    -32.3628     33.814     -0.957      0.339     -98.647      33.922\n",
      "Bisuvanahalli                 -80.4149     22.939     -3.506      0.000    -125.380     -35.449\n",
      "Bommanahalli                 -109.1809     26.761     -4.080      0.000    -161.638     -56.724\n",
      "Bommasandra                   -97.9460     27.914     -3.509      0.000    -152.664     -43.228\n",
      "Bommasandra Industrial Area   -97.4596     30.020     -3.246      0.001    -156.307     -38.612\n",
      "Bommenahalli                  229.7628     46.324      4.960      0.000     138.957     320.568\n",
      "Brookefield                   -66.8567     23.978     -2.788      0.005    -113.859     -19.854\n",
      "Budigere                      -74.1755     20.486     -3.621      0.000    -114.333     -34.018\n",
      "CV Raman Nagar                -66.2011     21.273     -3.112      0.002    -107.901     -24.501\n",
      "Chamrajpet                    -10.4294     41.354     -0.252      0.801     -91.494      70.635\n",
      "Chandapura                    -80.1953     16.965     -4.727      0.000    -113.450     -46.941\n",
      "Channasandra                  -97.7794     24.775     -3.947      0.000    -146.343     -49.215\n",
      "Chikka Tirupathi             -128.7137     36.369     -3.539      0.000    -200.006     -57.421\n",
      "Chikkabanavar                -145.3862     39.491     -3.681      0.000    -222.799     -67.973\n",
      "Chikkalasandra                -60.5841     29.318     -2.066      0.039    -118.055      -3.113\n",
      "Choodasandra                  -62.4938     28.586     -2.186      0.029    -118.529      -6.459\n",
      "Cooke Town                     29.4361     36.307      0.811      0.418     -41.735     100.608\n",
      "Cox Town                      -24.3226     53.341     -0.456      0.648    -128.884      80.239\n",
      "Cunningham Road               526.3969     58.471      9.003      0.000     411.780     641.014\n",
      "Dasanapura                    -80.8843     36.260     -2.231      0.026    -151.963      -9.805\n",
      "Dasarahalli                   -52.3550     39.416     -1.328      0.184    -129.620      24.910\n",
      "Devanahalli                   -24.0283     25.215     -0.953      0.341     -73.457      25.400\n",
      "Devarachikkanahalli           -67.1214     43.582     -1.540      0.124    -152.552      18.309\n",
      "Dodda Nekkundi                -67.2145     27.908     -2.408      0.016    -121.922     -12.507\n",
      "Doddaballapur                 -21.2906     49.424     -0.431      0.667    -118.174      75.593\n",
      "Doddakallasandra              -76.6227     49.393     -1.551      0.121    -173.445      20.200\n",
      "Doddathoguru                  -89.2793     26.185     -3.410      0.001    -140.607     -37.951\n",
      "Domlur                         17.4344     36.292      0.480      0.631     -53.707      88.576\n",
      "Dommasandra                   -93.2808     41.352     -2.256      0.024    -174.341     -12.220\n",
      "EPIP Zone                     -54.0680     33.829     -1.598      0.110    -120.381      12.245\n",
      "Electronic City               -68.2672      9.081     -7.518      0.000     -86.068     -50.466\n",
      "Electronic City Phase II      -84.5751     13.493     -6.268      0.000    -111.024     -58.126\n",
      "Electronics City Phase 1      -70.6509     16.180     -4.367      0.000    -102.368     -38.934\n",
      "Frazer Town                    72.7951     25.747      2.827      0.005      22.326     123.264\n",
      "GM Palaya                     -67.6766     43.573     -1.553      0.120    -153.089      17.736\n",
      "Garudachar Palya              -61.1387     34.973     -1.748      0.080    -129.693       7.416\n",
      "Gollarapalya Hosahalli       -107.6928     43.578     -2.471      0.013    -193.116     -22.269\n",
      "Gottigere                     -78.3039     24.334     -3.218      0.001    -126.004     -30.604\n",
      "Green Glen Layout             -65.7920     23.980     -2.744      0.006    -112.799     -18.785\n",
      "Gubbalala                     -59.7404     30.050     -1.988      0.047    -118.646      -0.835\n",
      "Gunjur                        -42.9895     36.285     -1.185      0.236    -114.117      28.138\n",
      "HBR Layout                    -50.6147     41.359     -1.224      0.221    -131.688      30.458\n",
      "HRBR Layout                   -29.4078     39.443     -0.746      0.456    -106.725      47.910\n",
      "HSR Layout                    -57.6916     23.181     -2.489      0.013    -103.132     -12.251\n",
      "Haralur Road                  -68.7400     13.217     -5.201      0.000     -94.649     -42.831\n",
      "Harlur                        -62.5755     18.430     -3.395      0.001     -98.703     -26.448\n",
      "Hebbal                        -23.6248     12.016     -1.966      0.049     -47.178      -0.071\n",
      "Hebbal Kempapura                0.1459     25.750      0.006      0.995     -50.331      50.623\n",
      "Hegde Nagar                   -69.6362     20.589     -3.382      0.001    -109.997     -29.276\n",
      "Hennur                        -74.8071     21.856     -3.423      0.001    -117.650     -31.964\n",
      "Hennur Road                   -58.4242     12.955     -4.510      0.000     -83.819     -33.029\n",
      "Hoodi                         -63.9683     17.289     -3.700      0.000     -97.858     -30.078\n",
      "Horamavu Agara                -81.7651     26.194     -3.122      0.002    -133.111     -30.419\n",
      "Horamavu Banaswadi            -93.8362     31.744     -2.956      0.003    -156.062     -31.611\n",
      "Hormavu                       -70.2423     17.262     -4.069      0.000    -104.080     -36.405\n",
      "Hosa Road                     -69.9483     19.153     -3.652      0.000    -107.494     -32.403\n",
      "Hosakerehalli                 -50.5952     31.820     -1.590      0.112    -112.969      11.779\n",
      "Hoskote                      -110.0159     36.295     -3.031      0.002    -181.164     -38.868\n",
      "Hosur Road                    -57.0198     22.852     -2.495      0.013    -101.816     -12.223\n",
      "Hulimavu                      -56.6672     22.479     -2.521      0.012    -100.732     -12.603\n",
      "ITPL                         -103.0709     46.251     -2.228      0.026    -193.735     -12.407\n",
      "Iblur Village                 -35.0597     32.795     -1.069      0.285     -99.347      29.227\n",
      "Indira Nagar                   93.4760     25.259      3.701      0.000      43.963     142.989\n",
      "JP Nagar                      -44.1132     19.828     -2.225      0.026     -82.981      -5.246\n",
      "Jakkur                        -27.3358     19.608     -1.394      0.163     -65.772      11.100\n",
      "Jalahalli                     -55.8614     23.181     -2.410      0.016    -101.302     -10.421\n",
      "Jalahalli East                -77.5041     46.209     -1.677      0.094    -168.084      13.076\n",
      "Jigani                        -90.9571     23.949     -3.798      0.000    -137.903     -44.012\n",
      "Judicial Layout               -44.0781     53.373     -0.826      0.409    -148.701      60.545\n",
      "KR Puram                      -85.0441     17.296     -4.917      0.000    -118.949     -51.139\n",
      "Kadubeesanahalli              -47.2365     39.432     -1.198      0.231    -124.533      30.060\n",
      "Kadugodi                      -80.1758     23.984     -3.343      0.001    -127.191     -33.161\n",
      "Kaggadasapura                 -84.1226     20.264     -4.151      0.000    -123.846     -44.399\n",
      "Kaggalipura                   -62.2375     33.780     -1.842      0.065    -128.454       3.979\n",
      "Kaikondrahalli                -78.5811     49.393     -1.591      0.112    -175.404      18.241\n",
      "Kalena Agrahara               -69.3930     28.564     -2.429      0.015    -125.385     -13.401\n",
      "Kalyan nagar                  -71.7573     37.752     -1.901      0.057    -145.761       2.246\n",
      "Kambipura                     -79.7930     30.847     -2.587      0.010    -140.260     -19.326\n",
      "Kammanahalli                  -86.2034     49.424     -1.744      0.081    -183.087      10.680\n",
      "Kammasandra                   -90.2001     28.561     -3.158      0.002    -146.186     -34.214\n",
      "Kanakapura                    -75.2568     23.172     -3.248      0.001    -120.680     -29.834\n",
      "Kanakpura Road                -73.8097      9.724     -7.590      0.000     -92.871     -54.748\n",
      "Kannamangala                  -78.3056     39.433     -1.986      0.047    -155.604      -1.007\n",
      "Karuna Nagar                  -35.0017     41.372     -0.846      0.398    -116.100      46.097\n",
      "Kasavanhalli                  -49.4392     17.461     -2.831      0.005     -83.667     -15.212\n",
      "Kasturi Nagar                 -37.2009     39.437     -0.943      0.346    -114.507      40.105\n",
      "Kathriguppe                   -67.3633     32.752     -2.057      0.040    -131.565      -3.162\n",
      "Kaval Byrasandra              -73.2907     33.765     -2.171      0.030    -139.478      -7.103\n",
      "Kenchenahalli                 -51.2580     41.344     -1.240      0.215    -132.302      29.786\n",
      "Kengeri                       -69.1830     19.564     -3.536      0.000    -107.533     -30.833\n",
      "Kengeri Satellite Town        -73.6521     24.322     -3.028      0.002    -121.329     -25.975\n",
      "Kereguddadahalli              -95.8500     39.416     -2.432      0.015    -173.115     -18.585\n",
      "Kodichikkanahalli             -98.8486     30.054     -3.289      0.001    -157.761     -39.936\n",
      "Kodigehaali                   -81.9224     43.578     -1.880      0.060    -167.346       3.501\n",
      "Kodihalli                      61.8874     43.688      1.417      0.157     -23.751     147.526\n",
      "Kogilu                        -76.6601     34.957     -2.193      0.028    -145.184      -8.136\n",
      "Konanakunte                    28.2026     41.392      0.681      0.496     -52.936     109.341\n",
      "Koramangala                    38.0750     18.102      2.103      0.035       2.591      73.558\n",
      "Kothannur                     -97.2695     30.048     -3.237      0.001    -156.171     -38.368\n",
      "Kothanur                      -77.0947     20.064     -3.842      0.000    -116.426     -37.764\n",
      "Kudlu                         -76.8352     30.017     -2.560      0.010    -135.676     -17.995\n",
      "Kudlu Gate                    -66.8062     24.771     -2.697      0.007    -115.364     -18.249\n",
      "Kumaraswami Layout            -48.5148     36.351     -1.335      0.182    -119.772      22.742\n",
      "Kundalahalli                  -42.6072     22.205     -1.919      0.055     -86.133       0.919\n",
      "LB Shastri Nagar              -88.7002     43.583     -2.035      0.042    -174.134      -3.267\n",
      "Lakshminarayana Pura          -44.1922     28.566     -1.547      0.122    -100.188      11.803\n",
      "Lingadheeranahalli            -79.9441     33.826     -2.363      0.018    -146.252     -13.637\n",
      "Magadi Road                   -67.2231     30.896     -2.176      0.030    -127.787      -6.659\n",
      "Mahadevpura                   -60.4510     30.850     -1.960      0.050    -120.925       0.023\n",
      "Mallasandra                   -64.8703     41.336     -1.569      0.117    -145.898      16.157\n",
      "Malleshpalya                  -57.0290     41.344     -1.379      0.168    -138.074      24.016\n",
      "Malleshwaram                  174.7150     21.348      8.184      0.000     132.867     216.563\n",
      "Marathahalli                  -59.8047     11.894     -5.028      0.000     -83.119     -36.491\n",
      "Margondanahalli               -63.2750     33.771     -1.874      0.061    -129.475       2.925\n",
      "Mico Layout                  -120.3313     53.390     -2.254      0.024    -224.990     -15.673\n",
      "Munnekollal                  -103.2304     37.786     -2.732      0.006    -177.300     -29.161\n",
      "Murugeshpalya                 -66.4641     41.357     -1.607      0.108    -147.533      14.605\n",
      "Mysore Road                   -78.4848     23.536     -3.335      0.001    -124.620     -32.349\n",
      "NGR Layout                    -69.5655     49.375     -1.409      0.159    -166.352      27.221\n",
      "NRI Layout                    -94.1548     43.588     -2.160      0.031    -179.598      -8.711\n",
      "Nagarbhavi                    -29.3917     21.886     -1.343      0.179     -72.293      13.510\n",
      "Nagavara                      -23.6234     37.765     -0.626      0.532     -97.653      50.406\n",
      "Nagavarapalya                 -38.5659     37.727     -1.022      0.307    -112.521      35.389\n",
      "Narayanapura                  -57.4409     49.394     -1.163      0.245    -154.264      39.383\n",
      "Neeladri Nagar               -121.9721     49.475     -2.465      0.014    -218.956     -24.988\n",
      "Nehru Nagar                   -90.1617     46.223     -1.951      0.051    -180.770       0.447\n",
      "OMBR Layout                   -22.7139     41.365     -0.549      0.583    -103.799      58.371\n",
      "Old Airport Road              -21.1495     27.382     -0.772      0.440     -74.824      32.525\n",
      "Old Madras Road               -81.9481     18.868     -4.343      0.000    -118.935     -44.962\n",
      "Padmanabhanagar               -26.3847     31.758     -0.831      0.406     -88.638      35.868\n",
      "Pai Layout                    -66.3712     39.435     -1.683      0.092    -143.673      10.930\n",
      "Panathur                      -55.8475     21.259     -2.627      0.009     -97.520     -14.175\n",
      "Parappana Agrahara            -75.3808     33.759     -2.233      0.026    -141.556      -9.206\n",
      "Pattandur Agrahara            -69.7933     43.559     -1.602      0.109    -155.180      15.594\n",
      "Poorna Pragna Layout          -52.4071     31.808     -1.648      0.099    -114.759       9.945\n",
      "Prithvi Layout                -19.6491     43.586     -0.451      0.652    -105.089      65.790\n",
      "R.T. Nagar                    -10.2152     30.062     -0.340      0.734     -69.144      48.713\n",
      "Rachenahalli                  -62.6225     20.476     -3.058      0.002    -102.761     -22.484\n",
      "Raja Rajeshwari Nagar         -83.6121     12.755     -6.555      0.000    -108.614     -58.610\n",
      "Rajaji Nagar                  171.9087     15.751     10.914      0.000     141.033     202.785\n",
      "Rajiv Nagar                   -90.7459     46.239     -1.963      0.050    -181.385      -0.107\n",
      "Ramagondanahalli               -1.2587     22.850     -0.055      0.956     -46.050      43.532\n",
      "Ramamurthy Nagar              -74.2125     19.814     -3.745      0.000    -113.053     -35.372\n",
      "Rayasandra                    -81.2987     37.750     -2.154      0.031    -155.299      -7.299\n",
      "Sahakara Nagar                -41.3845     27.312     -1.515      0.130     -94.922      12.153\n",
      "Sanjay nagar                  -15.4007     31.749     -0.485      0.628     -77.637      46.835\n",
      "Sarakki Nagar                  32.8871     46.279      0.711      0.477     -57.831     123.605\n",
      "Sarjapur                      -65.7507     17.020     -3.863      0.000     -99.113     -32.388\n",
      "Sarjapur  Road                -60.4585      8.146     -7.422      0.000     -76.426     -44.491\n",
      "Sarjapura - Attibele Road     -91.3540     39.437     -2.316      0.021    -168.660     -14.048\n",
      "Sector 2 HSR Layout           -50.3460     39.411     -1.277      0.201    -127.602      26.910\n",
      "Sector 7 HSR Layout           -28.5752     53.347     -0.536      0.592    -133.148      75.997\n",
      "Seegehalli                    -68.6852     32.728     -2.099      0.036    -132.841      -4.529\n",
      "Singasandra                   -81.2125     27.917     -2.909      0.004    -135.937     -26.488\n",
      "Somasundara Palya             -71.3917     27.308     -2.614      0.009    -124.923     -17.861\n",
      "Sompura                       -88.6226     41.367     -2.142      0.032    -169.713      -7.533\n",
      "Sonnenahalli                  -71.6004     33.775     -2.120      0.034    -137.807      -5.394\n",
      "Subramanyapura                -74.3390     26.207     -2.837      0.005    -125.711     -22.967\n",
      "Sultan Palaya                 -99.3602     49.443     -2.010      0.045    -196.281      -2.439\n",
      "TC Palaya                     -68.0143     21.904     -3.105      0.002    -110.952     -25.076\n",
      "Talaghattapura                -58.8931     26.757     -2.201      0.028    -111.343      -6.444\n",
      "Thanisandra                   -72.4778     10.430     -6.949      0.000     -92.923     -52.032\n",
      "Thigalarapalya                -66.2288     19.563     -3.385      0.001    -104.577     -27.881\n",
      "Thubarahalli                  -69.9373     34.964     -2.000      0.046    -138.476      -1.399\n",
      "Tumkur Road                   -66.6663     27.928     -2.387      0.017    -121.412     -11.921\n",
      "Ulsoor                        115.2771     36.303      3.175      0.002      44.114     186.441\n",
      "Uttarahalli                   -78.5857     12.018     -6.539      0.000    -102.144     -55.028\n",
      "Varthur                       -71.2430     19.156     -3.719      0.000    -108.792     -33.693\n",
      "Varthur Road                  -81.7335     39.424     -2.073      0.038    -159.014      -4.453\n",
      "Vasanthapura                  -85.7871     49.379     -1.737      0.082    -182.582      11.008\n",
      "Vidyaranyapura                -83.2931     30.046     -2.772      0.006    -142.191     -24.395\n",
      "Vijayanagar                   -44.5174     25.229     -1.765      0.078     -93.973       4.938\n",
      "Vittasandra                   -63.7844     24.319     -2.623      0.009    -111.455     -16.114\n",
      "Whitefield                    -40.5580      7.343     -5.524      0.000     -54.951     -26.165\n",
      "Yelachenahalli                -45.6728     34.968     -1.306      0.192    -114.219      22.873\n",
      "Yelahanka                     -73.3823     10.950     -6.701      0.000     -94.848     -51.917\n",
      "Yelahanka New Town            -46.8367     24.732     -1.894      0.058     -95.318       1.645\n",
      "Yelenahalli                   -77.0411     49.383     -1.560      0.119    -173.844      19.762\n",
      "Yeshwanthpur                  -50.3350     17.739     -2.838      0.005     -85.107     -15.563\n",
      "==============================================================================\n",
      "Omnibus:                    13483.218   Durbin-Watson:                   1.965\n",
      "Prob(Omnibus):                  0.000   Jarque-Bera (JB):          8278522.096\n",
      "Skew:                           9.665   Prob(JB):                         0.00\n",
      "Kurtosis:                     152.443   Cond. No.                     6.76e+05\n",
      "==============================================================================\n",
      "\n",
      "Notes:\n",
      "[1] R² is computed without centering (uncentered) since the model does not contain a constant.\n",
      "[2] Standard Errors assume that the covariance matrix of the errors is correctly specified.\n",
      "[3] The condition number is large, 6.76e+05. This might indicate that there are\n",
      "strong multicollinearity or other numerical problems.\n"
     ]
    }
   ],
   "source": [
    "\n",
    "import statsmodels.api as sm\n",
    "model = sm.OLS(y_train, X_train).fit()\n",
    "predictions = model.predict(X_test) \n",
    " \n",
    "print_model = model.summary()\n",
    "print(print_model)"
   ]
  },
  {
   "cell_type": "code",
   "execution_count": 206,
   "id": "77fbc53f",
   "metadata": {},
   "outputs": [],
   "source": [
    "def predict_price(location,sqft,bath,bhk):    \n",
    "    loc_index = np.where(X.columns==location)[0][0]\n",
    "\n",
    "    x = np.zeros(len(X.columns))\n",
    "    x[0] = sqft\n",
    "    x[1] = bath\n",
    "    x[2] = bhk\n",
    "    if loc_index >= 0:\n",
    "        x[loc_index] = 1\n",
    "\n",
    "    return reg.predict([x])[0]"
   ]
  },
  {
   "cell_type": "code",
   "execution_count": 209,
   "id": "fe0d90d6",
   "metadata": {},
   "outputs": [
    {
     "name": "stderr",
     "output_type": "stream",
     "text": [
      "C:\\Users\\Windows\\anaconda3\\Lib\\site-packages\\sklearn\\base.py:464: UserWarning: X does not have valid feature names, but LinearRegression was fitted with feature names\n",
      "  warnings.warn(\n"
     ]
    },
    {
     "data": {
      "text/plain": [
       "45.101539094625295"
      ]
     },
     "execution_count": 209,
     "metadata": {},
     "output_type": "execute_result"
    }
   ],
   "source": [
    "predict_price('Hennur',1000, 2, 2)"
   ]
  },
  {
   "cell_type": "code",
   "execution_count": null,
   "id": "35ccfcbd",
   "metadata": {},
   "outputs": [],
   "source": []
  },
  {
   "cell_type": "code",
   "execution_count": null,
   "id": "bb58556c",
   "metadata": {},
   "outputs": [],
   "source": []
  }
 ],
 "metadata": {
  "kernelspec": {
   "display_name": "Python 3 (ipykernel)",
   "language": "python",
   "name": "python3"
  },
  "language_info": {
   "codemirror_mode": {
    "name": "ipython",
    "version": 3
   },
   "file_extension": ".py",
   "mimetype": "text/x-python",
   "name": "python",
   "nbconvert_exporter": "python",
   "pygments_lexer": "ipython3",
   "version": "3.11.5"
  }
 },
 "nbformat": 4,
 "nbformat_minor": 5
}
